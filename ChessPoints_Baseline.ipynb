{
  "nbformat": 4,
  "nbformat_minor": 0,
  "metadata": {
    "colab": {
      "name": "ChessPoints_Baseline.ipynb",
      "provenance": [],
      "collapsed_sections": [],
      "toc_visible": true,
      "include_colab_link": true
    },
    "kernelspec": {
      "name": "python3",
      "display_name": "Python 3"
    },
    "accelerator": "GPU"
  },
  "cells": [
    {
      "cell_type": "markdown",
      "metadata": {
        "id": "view-in-github",
        "colab_type": "text"
      },
      "source": [
        "<a href=\"https://colab.research.google.com/github/Damilola-ops/DeepLearningExplorations2/blob/master/ChessPoints_Baseline.ipynb\" target=\"_parent\"><img src=\"https://colab.research.google.com/assets/colab-badge.svg\" alt=\"Open In Colab\"/></a>"
      ]
    },
    {
      "cell_type": "markdown",
      "metadata": {
        "id": "LNzVqbnxvTRS"
      },
      "source": [
        "![AIcrowd-Logo](https://raw.githubusercontent.com/AIcrowd/AIcrowd/master/app/assets/images/misc/aicrowd-horizontal.png)\n"
      ]
    },
    {
      "cell_type": "markdown",
      "metadata": {
        "id": "-iVIzWrovTRX"
      },
      "source": [
        "# Getting Started Code for [Chess Points](https://www.aicrowd.com/challenges/ai-blitz-6/problems/chess-points) on AIcrowd\n",
        "#### Author : Shubhamai"
      ]
    },
    {
      "cell_type": "markdown",
      "metadata": {
        "id": "fOsJQCoRvTRY"
      },
      "source": [
        "## Download Necessary Packages 📚\n",
        "\n",
        "In this baseline we are going to use FastAI as our main library to train out model and making & submitting predictions"
      ]
    },
    {
      "cell_type": "code",
      "metadata": {
        "collapsed": true,
        "id": "jCKS_X_KvTRY"
      },
      "source": [
        "!pip install --upgrade fastai git+https://gitlab.aicrowd.com/yoogottamk/aicrowd-cli.git >/dev/null\n",
        "%load_ext aicrowd.magic"
      ],
      "execution_count": null,
      "outputs": []
    },
    {
      "cell_type": "markdown",
      "metadata": {
        "id": "KwykJ9kzvTRZ"
      },
      "source": [
        "## Download Data\n",
        "The first step is to download out train test data. We will be training a model on the train data and make predictions on test data. We submit our predictions.\n"
      ]
    },
    {
      "cell_type": "code",
      "metadata": {
        "id": "ekJZdhqrvTRa"
      },
      "source": [
        "API_KEY = '' #Please enter your API Key [https://www.aicrowd.com/participants/me]\n",
        "%aicrowd login --api-key $API_KEY"
      ],
      "execution_count": null,
      "outputs": []
    },
    {
      "cell_type": "code",
      "metadata": {
        "id": "FwZgcLsNDej_"
      },
      "source": [
        "%aicrowd dataset download --challenge chess-points -j 3"
      ],
      "execution_count": null,
      "outputs": []
    },
    {
      "cell_type": "code",
      "metadata": {
        "id": "jXNMUq-UVc8E"
      },
      "source": [
        "!rm -rf data\n",
        "!mkdir data\n",
        "\n",
        "!unzip train.zip  -d data/ \n",
        "!unzip val.zip -d data/ \n",
        "!unzip test.zip  -d data/ \n",
        "\n",
        "!mv train.csv data/train.csv\n",
        "!mv val.csv data/val.csv\n",
        "!mv sample_submission.csv data/sample_submission.csv"
      ],
      "execution_count": null,
      "outputs": []
    },
    {
      "cell_type": "markdown",
      "metadata": {
        "id": "XI_2fIKlvTRa"
      },
      "source": [
        "\n",
        "## Import packages"
      ]
    },
    {
      "cell_type": "code",
      "metadata": {
        "id": "JiYI6P-pvTRa"
      },
      "source": [
        "import pandas as pd\n",
        "from fastai.vision.all import *\n",
        "import os"
      ],
      "execution_count": null,
      "outputs": []
    },
    {
      "cell_type": "markdown",
      "metadata": {
        "id": "7MLxouZUvTRa"
      },
      "source": [
        "## Load Data\n",
        "- We use pandas 🐼 library to load our data.   \n",
        "- Pandas loads the data into dataframes and facilitates us to analyse the data.   \n",
        "- Learn more about it [here](https://www.tutorialspoint.com/python_data_science/python_pandas.htm) 🤓"
      ]
    },
    {
      "cell_type": "code",
      "metadata": {
        "id": "RopVoFl1vTRb"
      },
      "source": [
        "train_df = pd.read_csv(\"data/train.csv\")"
      ],
      "execution_count": null,
      "outputs": []
    },
    {
      "cell_type": "markdown",
      "metadata": {
        "id": "BD1RLncLvTRb"
      },
      "source": [
        "## Visualize the data 👀"
      ]
    },
    {
      "cell_type": "code",
      "metadata": {
        "id": "xQ2HKE0pvTRb"
      },
      "source": [
        "train_df"
      ],
      "execution_count": null,
      "outputs": []
    },
    {
      "cell_type": "code",
      "metadata": {
        "id": "ZiV4vJUPvTRb"
      },
      "source": [
        "train_df['ImageID'] = train_df['ImageID'].astype(str)+\".jpg\"\n",
        "train_df"
      ],
      "execution_count": null,
      "outputs": []
    },
    {
      "cell_type": "code",
      "metadata": {
        "id": "j6enJwxTvTRb"
      },
      "source": [
        "dls = ImageDataLoaders.from_df(train_df, path=\"data/train\", bs=8)\n",
        "dls.show_batch()"
      ],
      "execution_count": null,
      "outputs": []
    },
    {
      "cell_type": "markdown",
      "metadata": {
        "id": "rnSJh-VUvTRc"
      },
      "source": [
        "# TRAINING PHASE 🏋️"
      ]
    },
    {
      "cell_type": "code",
      "metadata": {
        "id": "2xcWVJzpvTRc"
      },
      "source": [
        "learn = cnn_learner(dls, alexnet, metrics=F1Score())"
      ],
      "execution_count": null,
      "outputs": []
    },
    {
      "cell_type": "markdown",
      "metadata": {
        "id": "K0HEYiUXvTRc"
      },
      "source": [
        "## Train the Model"
      ]
    },
    {
      "cell_type": "code",
      "metadata": {
        "collapsed": true,
        "id": "Y6gL4OijvTRc"
      },
      "source": [
        "learn.fine_tune(1)"
      ],
      "execution_count": null,
      "outputs": []
    },
    {
      "cell_type": "markdown",
      "metadata": {
        "id": "eTEcBgpkvTRc"
      },
      "source": [
        "# Testing Phase 😅\n",
        "\n",
        "We are almost done. We trained and validated on the training data. Now its the time to predict on test set and make a submission.# Prediction on Evaluation Set"
      ]
    },
    {
      "cell_type": "markdown",
      "metadata": {
        "id": "1n0ewoxlvTRc"
      },
      "source": [
        "## Predict Test Set\n",
        "Predict on the test set and you are all set to make the submission!"
      ]
    },
    {
      "cell_type": "code",
      "metadata": {
        "id": "wPD1GyHQaMrL"
      },
      "source": [
        "test_imgs_name = get_image_files(\"data/test\")\n",
        "test_dls = dls.test_dl(test_imgs_name)\n",
        "\n",
        "label_to_class_mapping = {v: k for v, k in enumerate(dls.vocab)}\n",
        "print(label_to_class_mapping)\n",
        "\n",
        "test_img_ids = [re.sub(r\"\\D\", \"\", str(img_name)) for img_name in test_imgs_name]"
      ],
      "execution_count": null,
      "outputs": []
    },
    {
      "cell_type": "code",
      "metadata": {
        "id": "8pSb8qIZcppA"
      },
      "source": [
        "test_dls.show_batch()"
      ],
      "execution_count": null,
      "outputs": []
    },
    {
      "cell_type": "code",
      "metadata": {
        "id": "s_zDRUwmvTRd"
      },
      "source": [
        "_,_,results = learn.get_preds(dl = test_dls, with_decoded = True)\n",
        "\n",
        "results = [label_to_class_mapping[i] for i in results.numpy()]"
      ],
      "execution_count": null,
      "outputs": []
    },
    {
      "cell_type": "markdown",
      "metadata": {
        "id": "nPfKXGb1vTRd"
      },
      "source": [
        "## Save the prediction to csv"
      ]
    },
    {
      "cell_type": "code",
      "metadata": {
        "id": "1LkuPd5AvTRd"
      },
      "source": [
        "submission = pd.DataFrame({\"ImageID\":test_img_ids, \"label\":results})\n",
        "submission"
      ],
      "execution_count": null,
      "outputs": []
    },
    {
      "cell_type": "code",
      "metadata": {
        "id": "VFpXZhZCvTRd"
      },
      "source": [
        "submission.to_csv(\"submission.csv\", index=False)"
      ],
      "execution_count": null,
      "outputs": []
    },
    {
      "cell_type": "markdown",
      "metadata": {
        "id": "pMT5UriCvTRd"
      },
      "source": [
        "### 🚧 Note :    \n",
        "- Do take a look at the submission format.   \n",
        "- The submission file should contain a header.   \n",
        "- Follow all submission guidelines strictly to avoid inconvenience."
      ]
    },
    {
      "cell_type": "markdown",
      "metadata": {
        "id": "qZedBNXkvTRd"
      },
      "source": [
        "## To download the generated csv in colab run the below command"
      ]
    },
    {
      "cell_type": "code",
      "metadata": {
        "id": "mK4SYIRMvTRd"
      },
      "source": [
        "try:\n",
        "    from google.colab import files\n",
        "    files.download('submission.csv') \n",
        "except:\n",
        "    print(\"Option Only avilable in Google Colab\")"
      ],
      "execution_count": null,
      "outputs": []
    },
    {
      "cell_type": "markdown",
      "metadata": {
        "id": "YneCcjHavTRe"
      },
      "source": [
        "### Well Done! 👍 We are all set to make a submission and see your name on leaderborad. Let navigate to [challenge page](https://www.aicrowd.com/challenges/higherpoint) and make one."
      ]
    }
  ]
}