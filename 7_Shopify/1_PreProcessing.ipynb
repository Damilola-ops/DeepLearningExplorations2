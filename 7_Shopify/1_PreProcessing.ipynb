{
 "cells": [
  {
   "cell_type": "markdown",
   "metadata": {
    "heading_collapsed": true
   },
   "source": [
    "## Import libraries"
   ]
  },
  {
   "cell_type": "code",
   "execution_count": 1,
   "metadata": {
    "ExecuteTime": {
     "end_time": "2021-07-11T20:55:55.904302Z",
     "start_time": "2021-07-11T20:55:55.556780Z"
    },
    "hidden": true
   },
   "outputs": [],
   "source": [
    "import pandas as pd\n",
    "import numpy as np\n",
    "import matplotlib.pyplot as plt\n",
    "from pathlib import Path\n",
    "%matplotlib inline\n",
    "pd.options.display.max_columns = None"
   ]
  },
  {
   "cell_type": "markdown",
   "metadata": {
    "ExecuteTime": {
     "end_time": "2021-07-11T19:31:23.643922Z",
     "start_time": "2021-07-11T19:31:23.641080Z"
    }
   },
   "source": [
    "## Pre-Processing"
   ]
  },
  {
   "cell_type": "code",
   "execution_count": 2,
   "metadata": {
    "ExecuteTime": {
     "end_time": "2021-07-11T20:55:57.164486Z",
     "start_time": "2021-07-11T20:55:57.153112Z"
    }
   },
   "outputs": [
    {
     "data": {
      "text/plain": [
       "[PosixPath('../data/shopify/raw/apps.csv'),\n",
       " PosixPath('../data/shopify/raw/apps_categories.csv'),\n",
       " PosixPath('../data/shopify/raw/categories.csv'),\n",
       " PosixPath('../data/shopify/raw/key_benefits.csv'),\n",
       " PosixPath('../data/shopify/raw/pricing_plans.csv'),\n",
       " PosixPath('../data/shopify/raw/pricing_plan_features.csv'),\n",
       " PosixPath('../data/shopify/raw/reviews.csv')]"
      ]
     },
     "execution_count": 2,
     "metadata": {},
     "output_type": "execute_result"
    }
   ],
   "source": [
    "dataPath = Path(\"../data/shopify/raw/\")\n",
    "[file for file in dataPath.glob('*')]"
   ]
  },
  {
   "cell_type": "code",
   "execution_count": 3,
   "metadata": {
    "ExecuteTime": {
     "end_time": "2021-07-11T20:56:01.181761Z",
     "start_time": "2021-07-11T20:56:00.736507Z"
    }
   },
   "outputs": [
    {
     "name": "stdout",
     "output_type": "stream",
     "text": [
      "(4750, 5)\n"
     ]
    },
    {
     "data": {
      "text/html": [
       "<div>\n",
       "<style scoped>\n",
       "    .dataframe tbody tr th:only-of-type {\n",
       "        vertical-align: middle;\n",
       "    }\n",
       "\n",
       "    .dataframe tbody tr th {\n",
       "        vertical-align: top;\n",
       "    }\n",
       "\n",
       "    .dataframe thead th {\n",
       "        text-align: right;\n",
       "    }\n",
       "</style>\n",
       "<table border=\"1\" class=\"dataframe\">\n",
       "  <thead>\n",
       "    <tr style=\"text-align: right;\">\n",
       "      <th></th>\n",
       "      <th>app_id</th>\n",
       "      <th>url</th>\n",
       "      <th>title</th>\n",
       "      <th>description</th>\n",
       "      <th>tagline</th>\n",
       "    </tr>\n",
       "  </thead>\n",
       "  <tbody>\n",
       "    <tr>\n",
       "      <th>0</th>\n",
       "      <td>9e4748a9-7eda-4814-83b6-0537d44152b1</td>\n",
       "      <td>https://apps.shopify.com/translate</td>\n",
       "      <td>Panda Language Translate</td>\n",
       "      <td>Panda Language Translation improve your busine...</td>\n",
       "      <td>Translate your store into multiple languages</td>\n",
       "    </tr>\n",
       "    <tr>\n",
       "      <th>1</th>\n",
       "      <td>d1476138-a608-4bb9-8d39-b30f3ca7617d</td>\n",
       "      <td>https://apps.shopify.com/instant-brand-page</td>\n",
       "      <td>Instant Brand Page</td>\n",
       "      <td>Having a brand page gives your shoppers a quic...</td>\n",
       "      <td>A-Z Brand Index Page and Favourites Slider</td>\n",
       "    </tr>\n",
       "    <tr>\n",
       "      <th>2</th>\n",
       "      <td>d6e49a3c-2f9f-4bfa-8c26-5d024faf2241</td>\n",
       "      <td>https://apps.shopify.com/powr-faq</td>\n",
       "      <td>FAQ Accordion | Help Center</td>\n",
       "      <td>Create, organize and display Frequently Asked ...</td>\n",
       "      <td>FAQ page, FAQ accordion menu for product Info ...</td>\n",
       "    </tr>\n",
       "    <tr>\n",
       "      <th>3</th>\n",
       "      <td>0ef0087f-3ae5-4dbc-84e0-193b576d82ed</td>\n",
       "      <td>https://apps.shopify.com/mps-promote-me</td>\n",
       "      <td>Promote Me | Many apps in one</td>\n",
       "      <td>Promote Me app is a bundle of apps that includ...</td>\n",
       "      <td>Spin Wheel,Currency Converter,Quick ATC Button...</td>\n",
       "    </tr>\n",
       "    <tr>\n",
       "      <th>4</th>\n",
       "      <td>7aac2a1f-ff03-4f38-aeb7-7619403a6f05</td>\n",
       "      <td>https://apps.shopify.com/installify-boost-mobi...</td>\n",
       "      <td>Instalify</td>\n",
       "      <td>We are trusted by hundreds of Shopify and Shop...</td>\n",
       "      <td>Supercharge Your Mobile App Installs</td>\n",
       "    </tr>\n",
       "  </tbody>\n",
       "</table>\n",
       "</div>"
      ],
      "text/plain": [
       "                                 app_id  \\\n",
       "0  9e4748a9-7eda-4814-83b6-0537d44152b1   \n",
       "1  d1476138-a608-4bb9-8d39-b30f3ca7617d   \n",
       "2  d6e49a3c-2f9f-4bfa-8c26-5d024faf2241   \n",
       "3  0ef0087f-3ae5-4dbc-84e0-193b576d82ed   \n",
       "4  7aac2a1f-ff03-4f38-aeb7-7619403a6f05   \n",
       "\n",
       "                                                 url  \\\n",
       "0                 https://apps.shopify.com/translate   \n",
       "1        https://apps.shopify.com/instant-brand-page   \n",
       "2                  https://apps.shopify.com/powr-faq   \n",
       "3            https://apps.shopify.com/mps-promote-me   \n",
       "4  https://apps.shopify.com/installify-boost-mobi...   \n",
       "\n",
       "                           title  \\\n",
       "0       Panda Language Translate   \n",
       "1             Instant Brand Page   \n",
       "2    FAQ Accordion | Help Center   \n",
       "3  Promote Me | Many apps in one   \n",
       "4                      Instalify   \n",
       "\n",
       "                                         description  \\\n",
       "0  Panda Language Translation improve your busine...   \n",
       "1  Having a brand page gives your shoppers a quic...   \n",
       "2  Create, organize and display Frequently Asked ...   \n",
       "3  Promote Me app is a bundle of apps that includ...   \n",
       "4  We are trusted by hundreds of Shopify and Shop...   \n",
       "\n",
       "                                             tagline  \n",
       "0       Translate your store into multiple languages  \n",
       "1         A-Z Brand Index Page and Favourites Slider  \n",
       "2  FAQ page, FAQ accordion menu for product Info ...  \n",
       "3  Spin Wheel,Currency Converter,Quick ATC Button...  \n",
       "4               Supercharge Your Mobile App Installs  "
      ]
     },
     "execution_count": 3,
     "metadata": {},
     "output_type": "execute_result"
    }
   ],
   "source": [
    "apps_df = pd.read_csv(dataPath/\"apps.csv\").rename(columns={\"id\": \"app_id\"}).loc[:, [\n",
    "    'app_id', \"url\", \"title\", \"description\", \"tagline\"]]\n",
    "print(apps_df.shape)\n",
    "apps_df.head()"
   ]
  },
  {
   "cell_type": "code",
   "execution_count": 8,
   "metadata": {
    "ExecuteTime": {
     "end_time": "2021-07-11T20:57:38.795270Z",
     "start_time": "2021-07-11T20:57:38.765306Z"
    }
   },
   "outputs": [
    {
     "name": "stdout",
     "output_type": "stream",
     "text": [
      "(7376, 2)\n"
     ]
    },
    {
     "data": {
      "text/html": [
       "<div>\n",
       "<style scoped>\n",
       "    .dataframe tbody tr th:only-of-type {\n",
       "        vertical-align: middle;\n",
       "    }\n",
       "\n",
       "    .dataframe tbody tr th {\n",
       "        vertical-align: top;\n",
       "    }\n",
       "\n",
       "    .dataframe thead th {\n",
       "        text-align: right;\n",
       "    }\n",
       "</style>\n",
       "<table border=\"1\" class=\"dataframe\">\n",
       "  <thead>\n",
       "    <tr style=\"text-align: right;\">\n",
       "      <th></th>\n",
       "      <th>app_id</th>\n",
       "      <th>category</th>\n",
       "    </tr>\n",
       "  </thead>\n",
       "  <tbody>\n",
       "    <tr>\n",
       "      <th>0</th>\n",
       "      <td>9e4748a9-7eda-4814-83b6-0537d44152b1</td>\n",
       "      <td>Store design</td>\n",
       "    </tr>\n",
       "    <tr>\n",
       "      <th>1</th>\n",
       "      <td>d1476138-a608-4bb9-8d39-b30f3ca7617d</td>\n",
       "      <td>Store design</td>\n",
       "    </tr>\n",
       "    <tr>\n",
       "      <th>2</th>\n",
       "      <td>d6e49a3c-2f9f-4bfa-8c26-5d024faf2241</td>\n",
       "      <td>Store design</td>\n",
       "    </tr>\n",
       "    <tr>\n",
       "      <th>3</th>\n",
       "      <td>0ef0087f-3ae5-4dbc-84e0-193b576d82ed</td>\n",
       "      <td>Store design</td>\n",
       "    </tr>\n",
       "    <tr>\n",
       "      <th>4</th>\n",
       "      <td>7aac2a1f-ff03-4f38-aeb7-7619403a6f05</td>\n",
       "      <td>Store design</td>\n",
       "    </tr>\n",
       "  </tbody>\n",
       "</table>\n",
       "</div>"
      ],
      "text/plain": [
       "                                 app_id      category\n",
       "0  9e4748a9-7eda-4814-83b6-0537d44152b1  Store design\n",
       "1  d1476138-a608-4bb9-8d39-b30f3ca7617d  Store design\n",
       "2  d6e49a3c-2f9f-4bfa-8c26-5d024faf2241  Store design\n",
       "3  0ef0087f-3ae5-4dbc-84e0-193b576d82ed  Store design\n",
       "4  7aac2a1f-ff03-4f38-aeb7-7619403a6f05  Store design"
      ]
     },
     "execution_count": 8,
     "metadata": {},
     "output_type": "execute_result"
    }
   ],
   "source": [
    "## Getting apps and their categories\n",
    "appCategories_df = pd.read_csv(dataPath/\"apps_categories.csv\")\n",
    "categories_df = pd.read_csv(dataPath/\"categories.csv\").rename(columns={\"id\":\"category_id\", \"title\":\"category\"})\n",
    "appCategories_df = appCategories_df.merge(categories_df).drop([\"category_id\"], axis=1)\n",
    "del categories_df\n",
    "print(appCategories_df.shape)\n",
    "appCategories_df.head()"
   ]
  },
  {
   "cell_type": "code",
   "execution_count": 9,
   "metadata": {
    "ExecuteTime": {
     "end_time": "2021-07-11T20:57:41.090693Z",
     "start_time": "2021-07-11T20:57:41.084274Z"
    }
   },
   "outputs": [
    {
     "data": {
      "text/plain": [
       "Store design                         2087\n",
       "Sales and conversion optimization    1294\n",
       "Marketing                            1068\n",
       "Orders and shipping                   858\n",
       "Customer support                      409\n",
       "Reporting                             350\n",
       "Inventory management                  342\n",
       "Productivity                          282\n",
       "Finding and adding products           252\n",
       "Finances                              163\n",
       "Trust and security                    144\n",
       "Places to sell                        127\n",
       "Name: category, dtype: int64"
      ]
     },
     "execution_count": 9,
     "metadata": {},
     "output_type": "execute_result"
    }
   ],
   "source": [
    "appCategories_df.category.value_counts()"
   ]
  },
  {
   "cell_type": "code",
   "execution_count": 10,
   "metadata": {
    "ExecuteTime": {
     "end_time": "2021-07-11T20:57:43.793471Z",
     "start_time": "2021-07-11T20:57:43.760992Z"
    }
   },
   "outputs": [
    {
     "data": {
      "text/html": [
       "<div>\n",
       "<style scoped>\n",
       "    .dataframe tbody tr th:only-of-type {\n",
       "        vertical-align: middle;\n",
       "    }\n",
       "\n",
       "    .dataframe tbody tr th {\n",
       "        vertical-align: top;\n",
       "    }\n",
       "\n",
       "    .dataframe thead th {\n",
       "        text-align: right;\n",
       "    }\n",
       "</style>\n",
       "<table border=\"1\" class=\"dataframe\">\n",
       "  <thead>\n",
       "    <tr style=\"text-align: right;\">\n",
       "      <th></th>\n",
       "      <th>app_id</th>\n",
       "      <th>category</th>\n",
       "    </tr>\n",
       "  </thead>\n",
       "  <tbody>\n",
       "    <tr>\n",
       "      <th>0</th>\n",
       "      <td>00014403-ad17-4c9b-bbcf-5adc27ba18a9</td>\n",
       "      <td>Inventory management,Reporting</td>\n",
       "    </tr>\n",
       "    <tr>\n",
       "      <th>1</th>\n",
       "      <td>000270a8-af0b-4862-82df-25decbcc8d86</td>\n",
       "      <td>Store design</td>\n",
       "    </tr>\n",
       "    <tr>\n",
       "      <th>2</th>\n",
       "      <td>0006d5af-c461-4bdb-b32e-a4fecd00846b</td>\n",
       "      <td>Store design</td>\n",
       "    </tr>\n",
       "    <tr>\n",
       "      <th>3</th>\n",
       "      <td>001ce7ab-14dc-45ce-98f1-1b42b61c86c1</td>\n",
       "      <td>Store design,Sales and conversion optimization</td>\n",
       "    </tr>\n",
       "    <tr>\n",
       "      <th>4</th>\n",
       "      <td>00215fb3-ff7c-4111-8f0c-8e7e2a9027fb</td>\n",
       "      <td>Marketing</td>\n",
       "    </tr>\n",
       "  </tbody>\n",
       "</table>\n",
       "</div>"
      ],
      "text/plain": [
       "                                 app_id  \\\n",
       "0  00014403-ad17-4c9b-bbcf-5adc27ba18a9   \n",
       "1  000270a8-af0b-4862-82df-25decbcc8d86   \n",
       "2  0006d5af-c461-4bdb-b32e-a4fecd00846b   \n",
       "3  001ce7ab-14dc-45ce-98f1-1b42b61c86c1   \n",
       "4  00215fb3-ff7c-4111-8f0c-8e7e2a9027fb   \n",
       "\n",
       "                                         category  \n",
       "0                  Inventory management,Reporting  \n",
       "1                                    Store design  \n",
       "2                                    Store design  \n",
       "3  Store design,Sales and conversion optimization  \n",
       "4                                       Marketing  "
      ]
     },
     "execution_count": 10,
     "metadata": {},
     "output_type": "execute_result"
    }
   ],
   "source": [
    "appCategories_df = appCategories_df.groupby(\"app_id\", as_index=False).agg({'category': lambda x : ','.join(x)})\n",
    "appCategories_df.head()"
   ]
  },
  {
   "cell_type": "code",
   "execution_count": 11,
   "metadata": {
    "ExecuteTime": {
     "end_time": "2021-07-11T20:57:48.353261Z",
     "start_time": "2021-07-11T20:57:48.336735Z"
    }
   },
   "outputs": [
    {
     "name": "stdout",
     "output_type": "stream",
     "text": [
      "(4750, 6)\n"
     ]
    },
    {
     "data": {
      "text/html": [
       "<div>\n",
       "<style scoped>\n",
       "    .dataframe tbody tr th:only-of-type {\n",
       "        vertical-align: middle;\n",
       "    }\n",
       "\n",
       "    .dataframe tbody tr th {\n",
       "        vertical-align: top;\n",
       "    }\n",
       "\n",
       "    .dataframe thead th {\n",
       "        text-align: right;\n",
       "    }\n",
       "</style>\n",
       "<table border=\"1\" class=\"dataframe\">\n",
       "  <thead>\n",
       "    <tr style=\"text-align: right;\">\n",
       "      <th></th>\n",
       "      <th>app_id</th>\n",
       "      <th>url</th>\n",
       "      <th>title</th>\n",
       "      <th>description</th>\n",
       "      <th>tagline</th>\n",
       "      <th>category</th>\n",
       "    </tr>\n",
       "  </thead>\n",
       "  <tbody>\n",
       "    <tr>\n",
       "      <th>0</th>\n",
       "      <td>9e4748a9-7eda-4814-83b6-0537d44152b1</td>\n",
       "      <td>https://apps.shopify.com/translate</td>\n",
       "      <td>Panda Language Translate</td>\n",
       "      <td>Panda Language Translation improve your busine...</td>\n",
       "      <td>Translate your store into multiple languages</td>\n",
       "      <td>Store design</td>\n",
       "    </tr>\n",
       "    <tr>\n",
       "      <th>1</th>\n",
       "      <td>d1476138-a608-4bb9-8d39-b30f3ca7617d</td>\n",
       "      <td>https://apps.shopify.com/instant-brand-page</td>\n",
       "      <td>Instant Brand Page</td>\n",
       "      <td>Having a brand page gives your shoppers a quic...</td>\n",
       "      <td>A-Z Brand Index Page and Favourites Slider</td>\n",
       "      <td>Store design</td>\n",
       "    </tr>\n",
       "    <tr>\n",
       "      <th>2</th>\n",
       "      <td>d6e49a3c-2f9f-4bfa-8c26-5d024faf2241</td>\n",
       "      <td>https://apps.shopify.com/powr-faq</td>\n",
       "      <td>FAQ Accordion | Help Center</td>\n",
       "      <td>Create, organize and display Frequently Asked ...</td>\n",
       "      <td>FAQ page, FAQ accordion menu for product Info ...</td>\n",
       "      <td>Store design,Customer support</td>\n",
       "    </tr>\n",
       "    <tr>\n",
       "      <th>3</th>\n",
       "      <td>0ef0087f-3ae5-4dbc-84e0-193b576d82ed</td>\n",
       "      <td>https://apps.shopify.com/mps-promote-me</td>\n",
       "      <td>Promote Me | Many apps in one</td>\n",
       "      <td>Promote Me app is a bundle of apps that includ...</td>\n",
       "      <td>Spin Wheel,Currency Converter,Quick ATC Button...</td>\n",
       "      <td>Store design,Sales and conversion optimization</td>\n",
       "    </tr>\n",
       "    <tr>\n",
       "      <th>4</th>\n",
       "      <td>7aac2a1f-ff03-4f38-aeb7-7619403a6f05</td>\n",
       "      <td>https://apps.shopify.com/installify-boost-mobi...</td>\n",
       "      <td>Instalify</td>\n",
       "      <td>We are trusted by hundreds of Shopify and Shop...</td>\n",
       "      <td>Supercharge Your Mobile App Installs</td>\n",
       "      <td>Store design</td>\n",
       "    </tr>\n",
       "  </tbody>\n",
       "</table>\n",
       "</div>"
      ],
      "text/plain": [
       "                                 app_id  \\\n",
       "0  9e4748a9-7eda-4814-83b6-0537d44152b1   \n",
       "1  d1476138-a608-4bb9-8d39-b30f3ca7617d   \n",
       "2  d6e49a3c-2f9f-4bfa-8c26-5d024faf2241   \n",
       "3  0ef0087f-3ae5-4dbc-84e0-193b576d82ed   \n",
       "4  7aac2a1f-ff03-4f38-aeb7-7619403a6f05   \n",
       "\n",
       "                                                 url  \\\n",
       "0                 https://apps.shopify.com/translate   \n",
       "1        https://apps.shopify.com/instant-brand-page   \n",
       "2                  https://apps.shopify.com/powr-faq   \n",
       "3            https://apps.shopify.com/mps-promote-me   \n",
       "4  https://apps.shopify.com/installify-boost-mobi...   \n",
       "\n",
       "                           title  \\\n",
       "0       Panda Language Translate   \n",
       "1             Instant Brand Page   \n",
       "2    FAQ Accordion | Help Center   \n",
       "3  Promote Me | Many apps in one   \n",
       "4                      Instalify   \n",
       "\n",
       "                                         description  \\\n",
       "0  Panda Language Translation improve your busine...   \n",
       "1  Having a brand page gives your shoppers a quic...   \n",
       "2  Create, organize and display Frequently Asked ...   \n",
       "3  Promote Me app is a bundle of apps that includ...   \n",
       "4  We are trusted by hundreds of Shopify and Shop...   \n",
       "\n",
       "                                             tagline  \\\n",
       "0       Translate your store into multiple languages   \n",
       "1         A-Z Brand Index Page and Favourites Slider   \n",
       "2  FAQ page, FAQ accordion menu for product Info ...   \n",
       "3  Spin Wheel,Currency Converter,Quick ATC Button...   \n",
       "4               Supercharge Your Mobile App Installs   \n",
       "\n",
       "                                         category  \n",
       "0                                    Store design  \n",
       "1                                    Store design  \n",
       "2                   Store design,Customer support  \n",
       "3  Store design,Sales and conversion optimization  \n",
       "4                                    Store design  "
      ]
     },
     "execution_count": 11,
     "metadata": {},
     "output_type": "execute_result"
    }
   ],
   "source": [
    "apps_df = apps_df.merge(appCategories_df)\n",
    "print(apps_df.shape)\n",
    "apps_df.head()"
   ]
  },
  {
   "cell_type": "code",
   "execution_count": 13,
   "metadata": {
    "ExecuteTime": {
     "end_time": "2021-07-11T20:58:50.469233Z",
     "start_time": "2021-07-11T20:58:50.220212Z"
    }
   },
   "outputs": [],
   "source": [
    "apps_df.to_csv(\"../data/shopify/shopify_apps.csv\", index=False)"
   ]
  }
 ],
 "metadata": {
  "kernelspec": {
   "display_name": "Python 3",
   "language": "python",
   "name": "python3"
  },
  "language_info": {
   "codemirror_mode": {
    "name": "ipython",
    "version": 3
   },
   "file_extension": ".py",
   "mimetype": "text/x-python",
   "name": "python",
   "nbconvert_exporter": "python",
   "pygments_lexer": "ipython3",
   "version": "3.8.5"
  },
  "toc": {
   "base_numbering": 1,
   "nav_menu": {},
   "number_sections": true,
   "sideBar": true,
   "skip_h1_title": false,
   "title_cell": "Table of Contents",
   "title_sidebar": "Contents",
   "toc_cell": false,
   "toc_position": {},
   "toc_section_display": true,
   "toc_window_display": true
  }
 },
 "nbformat": 4,
 "nbformat_minor": 4
}
