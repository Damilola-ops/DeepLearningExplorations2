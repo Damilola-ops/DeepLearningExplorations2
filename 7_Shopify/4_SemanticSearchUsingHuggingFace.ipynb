{
 "cells": [
  {
   "cell_type": "markdown",
   "id": "431e7ebc",
   "metadata": {
    "heading_collapsed": true
   },
   "source": [
    "## Import Library"
   ]
  },
  {
   "cell_type": "code",
   "execution_count": 1,
   "id": "b84f5a8c",
   "metadata": {
    "ExecuteTime": {
     "end_time": "2021-07-14T06:26:27.385040Z",
     "start_time": "2021-07-14T06:26:25.661513Z"
    },
    "hidden": true
   },
   "outputs": [],
   "source": [
    "import pandas as pd\n",
    "import numpy as np\n",
    "from pathlib import Path\n",
    "from sentence_transformers import SentenceTransformer\n",
    "import torch\n",
    "from annoy import AnnoyIndex\n",
    "%matplotlib inline\n",
    "%reload_ext autoreload\n",
    "%autoreload 2"
   ]
  },
  {
   "cell_type": "markdown",
   "id": "452a62a4",
   "metadata": {
    "heading_collapsed": true
   },
   "source": [
    "## Import Data"
   ]
  },
  {
   "cell_type": "code",
   "execution_count": 2,
   "id": "ee1f938c",
   "metadata": {
    "ExecuteTime": {
     "end_time": "2021-07-14T06:26:31.590990Z",
     "start_time": "2021-07-14T06:26:31.462359Z"
    },
    "hidden": true
   },
   "outputs": [
    {
     "data": {
      "text/html": [
       "<div>\n",
       "<style scoped>\n",
       "    .dataframe tbody tr th:only-of-type {\n",
       "        vertical-align: middle;\n",
       "    }\n",
       "\n",
       "    .dataframe tbody tr th {\n",
       "        vertical-align: top;\n",
       "    }\n",
       "\n",
       "    .dataframe thead th {\n",
       "        text-align: right;\n",
       "    }\n",
       "</style>\n",
       "<table border=\"1\" class=\"dataframe\">\n",
       "  <thead>\n",
       "    <tr style=\"text-align: right;\">\n",
       "      <th></th>\n",
       "      <th>app_id</th>\n",
       "      <th>url</th>\n",
       "      <th>title</th>\n",
       "      <th>description</th>\n",
       "      <th>tagline</th>\n",
       "      <th>category</th>\n",
       "    </tr>\n",
       "  </thead>\n",
       "  <tbody>\n",
       "    <tr>\n",
       "      <th>0</th>\n",
       "      <td>9e4748a9-7eda-4814-83b6-0537d44152b1</td>\n",
       "      <td>https://apps.shopify.com/translate</td>\n",
       "      <td>Panda Language Translate</td>\n",
       "      <td>Panda Language Translation improve your busine...</td>\n",
       "      <td>Translate your store into multiple languages</td>\n",
       "      <td>Store design</td>\n",
       "    </tr>\n",
       "    <tr>\n",
       "      <th>1</th>\n",
       "      <td>d1476138-a608-4bb9-8d39-b30f3ca7617d</td>\n",
       "      <td>https://apps.shopify.com/instant-brand-page</td>\n",
       "      <td>Instant Brand Page</td>\n",
       "      <td>Having a brand page gives your shoppers a quic...</td>\n",
       "      <td>A-Z Brand Index Page and Favourites Slider</td>\n",
       "      <td>Store design</td>\n",
       "    </tr>\n",
       "    <tr>\n",
       "      <th>2</th>\n",
       "      <td>d6e49a3c-2f9f-4bfa-8c26-5d024faf2241</td>\n",
       "      <td>https://apps.shopify.com/powr-faq</td>\n",
       "      <td>FAQ Accordion | Help Center</td>\n",
       "      <td>Create, organize and display Frequently Asked ...</td>\n",
       "      <td>FAQ page, FAQ accordion menu for product Info ...</td>\n",
       "      <td>Store design,Customer support</td>\n",
       "    </tr>\n",
       "    <tr>\n",
       "      <th>3</th>\n",
       "      <td>0ef0087f-3ae5-4dbc-84e0-193b576d82ed</td>\n",
       "      <td>https://apps.shopify.com/mps-promote-me</td>\n",
       "      <td>Promote Me | Many apps in one</td>\n",
       "      <td>Promote Me app is a bundle of apps that includ...</td>\n",
       "      <td>Spin Wheel,Currency Converter,Quick ATC Button...</td>\n",
       "      <td>Store design,Sales and conversion optimization</td>\n",
       "    </tr>\n",
       "    <tr>\n",
       "      <th>4</th>\n",
       "      <td>7aac2a1f-ff03-4f38-aeb7-7619403a6f05</td>\n",
       "      <td>https://apps.shopify.com/installify-boost-mobi...</td>\n",
       "      <td>Instalify</td>\n",
       "      <td>We are trusted by hundreds of Shopify and Shop...</td>\n",
       "      <td>Supercharge Your Mobile App Installs</td>\n",
       "      <td>Store design</td>\n",
       "    </tr>\n",
       "    <tr>\n",
       "      <th>5</th>\n",
       "      <td>c13bfb7f-8b5a-40c6-a338-dbdec5cfd130</td>\n",
       "      <td>https://apps.shopify.com/easy-product-feed</td>\n",
       "      <td>EASY product feed</td>\n",
       "      <td>There are a lot of product feed apps out there...</td>\n",
       "      <td>Get your products listed on Google Shopping th...</td>\n",
       "      <td>Marketing</td>\n",
       "    </tr>\n",
       "    <tr>\n",
       "      <th>6</th>\n",
       "      <td>6a71634f-f94f-498d-8713-d2b01ca90917</td>\n",
       "      <td>https://apps.shopify.com/posbill-connect</td>\n",
       "      <td>PosBill Connect</td>\n",
       "      <td>PosBill Connect - the perfection connection to...</td>\n",
       "      <td>Connect your Webshop to the solutions of PosBill.</td>\n",
       "      <td>Orders and shipping,Inventory management</td>\n",
       "    </tr>\n",
       "    <tr>\n",
       "      <th>7</th>\n",
       "      <td>da50f0bf-d116-46a0-b0c1-0d90c05d8ffe</td>\n",
       "      <td>https://apps.shopify.com/bulk-fulfill</td>\n",
       "      <td>Bulk Fulfill</td>\n",
       "      <td>Upload to fulfill: \\n Bulk Fulfill by Upatra a...</td>\n",
       "      <td>Reduce wasted time - Automatically sync your t...</td>\n",
       "      <td>Orders and shipping,Productivity</td>\n",
       "    </tr>\n",
       "    <tr>\n",
       "      <th>8</th>\n",
       "      <td>89735c3c-4d25-40f2-8b54-150f59cfb099</td>\n",
       "      <td>https://apps.shopify.com/show-price-in-btc</td>\n",
       "      <td>Show Price in BTC</td>\n",
       "      <td>Simply convert your store's prices into ANY cu...</td>\n",
       "      <td>A better currency converter app. Premium featu...</td>\n",
       "      <td>Store design</td>\n",
       "    </tr>\n",
       "    <tr>\n",
       "      <th>9</th>\n",
       "      <td>3c89c108-4858-4b07-893a-460ea5a0d91a</td>\n",
       "      <td>https://apps.shopify.com/product-copy</td>\n",
       "      <td>POKY ‑ Product Importer</td>\n",
       "      <td>Poky \\n Allows you to import/copy products fro...</td>\n",
       "      <td>Copy / Import products from any Shop store wit...</td>\n",
       "      <td>Productivity,Finding and adding products</td>\n",
       "    </tr>\n",
       "  </tbody>\n",
       "</table>\n",
       "</div>"
      ],
      "text/plain": [
       "                                 app_id  \\\n",
       "0  9e4748a9-7eda-4814-83b6-0537d44152b1   \n",
       "1  d1476138-a608-4bb9-8d39-b30f3ca7617d   \n",
       "2  d6e49a3c-2f9f-4bfa-8c26-5d024faf2241   \n",
       "3  0ef0087f-3ae5-4dbc-84e0-193b576d82ed   \n",
       "4  7aac2a1f-ff03-4f38-aeb7-7619403a6f05   \n",
       "5  c13bfb7f-8b5a-40c6-a338-dbdec5cfd130   \n",
       "6  6a71634f-f94f-498d-8713-d2b01ca90917   \n",
       "7  da50f0bf-d116-46a0-b0c1-0d90c05d8ffe   \n",
       "8  89735c3c-4d25-40f2-8b54-150f59cfb099   \n",
       "9  3c89c108-4858-4b07-893a-460ea5a0d91a   \n",
       "\n",
       "                                                 url  \\\n",
       "0                 https://apps.shopify.com/translate   \n",
       "1        https://apps.shopify.com/instant-brand-page   \n",
       "2                  https://apps.shopify.com/powr-faq   \n",
       "3            https://apps.shopify.com/mps-promote-me   \n",
       "4  https://apps.shopify.com/installify-boost-mobi...   \n",
       "5         https://apps.shopify.com/easy-product-feed   \n",
       "6           https://apps.shopify.com/posbill-connect   \n",
       "7              https://apps.shopify.com/bulk-fulfill   \n",
       "8         https://apps.shopify.com/show-price-in-btc   \n",
       "9              https://apps.shopify.com/product-copy   \n",
       "\n",
       "                           title  \\\n",
       "0       Panda Language Translate   \n",
       "1             Instant Brand Page   \n",
       "2    FAQ Accordion | Help Center   \n",
       "3  Promote Me | Many apps in one   \n",
       "4                      Instalify   \n",
       "5              EASY product feed   \n",
       "6                PosBill Connect   \n",
       "7                   Bulk Fulfill   \n",
       "8              Show Price in BTC   \n",
       "9        POKY ‑ Product Importer   \n",
       "\n",
       "                                         description  \\\n",
       "0  Panda Language Translation improve your busine...   \n",
       "1  Having a brand page gives your shoppers a quic...   \n",
       "2  Create, organize and display Frequently Asked ...   \n",
       "3  Promote Me app is a bundle of apps that includ...   \n",
       "4  We are trusted by hundreds of Shopify and Shop...   \n",
       "5  There are a lot of product feed apps out there...   \n",
       "6  PosBill Connect - the perfection connection to...   \n",
       "7  Upload to fulfill: \\n Bulk Fulfill by Upatra a...   \n",
       "8  Simply convert your store's prices into ANY cu...   \n",
       "9  Poky \\n Allows you to import/copy products fro...   \n",
       "\n",
       "                                             tagline  \\\n",
       "0       Translate your store into multiple languages   \n",
       "1         A-Z Brand Index Page and Favourites Slider   \n",
       "2  FAQ page, FAQ accordion menu for product Info ...   \n",
       "3  Spin Wheel,Currency Converter,Quick ATC Button...   \n",
       "4               Supercharge Your Mobile App Installs   \n",
       "5  Get your products listed on Google Shopping th...   \n",
       "6  Connect your Webshop to the solutions of PosBill.   \n",
       "7  Reduce wasted time - Automatically sync your t...   \n",
       "8  A better currency converter app. Premium featu...   \n",
       "9  Copy / Import products from any Shop store wit...   \n",
       "\n",
       "                                         category  \n",
       "0                                    Store design  \n",
       "1                                    Store design  \n",
       "2                   Store design,Customer support  \n",
       "3  Store design,Sales and conversion optimization  \n",
       "4                                    Store design  \n",
       "5                                       Marketing  \n",
       "6        Orders and shipping,Inventory management  \n",
       "7                Orders and shipping,Productivity  \n",
       "8                                    Store design  \n",
       "9        Productivity,Finding and adding products  "
      ]
     },
     "execution_count": 2,
     "metadata": {},
     "output_type": "execute_result"
    }
   ],
   "source": [
    "dataPath = Path(\"../data/shopify/\")\n",
    "apps_df = pd.read_csv(dataPath/\"shopify_apps.csv\")\n",
    "apps_df.head(10)"
   ]
  },
  {
   "cell_type": "markdown",
   "id": "cf44b6a0",
   "metadata": {},
   "source": [
    "## Step1: Encoding the App description"
   ]
  },
  {
   "cell_type": "markdown",
   "id": "fab56a72",
   "metadata": {},
   "source": [
    "We are going to use app descriptions to find similar Shopify apps. In order to do that we need to create emeddings from the description using transformer model. We will be using sentence-transformers/paraphrase-xlm-r-multilingual-v1 model using sentence-transformers library."
   ]
  },
  {
   "cell_type": "code",
   "execution_count": 5,
   "id": "ed932cc3",
   "metadata": {
    "ExecuteTime": {
     "end_time": "2021-07-14T06:26:53.171116Z",
     "start_time": "2021-07-14T06:26:50.889643Z"
    }
   },
   "outputs": [
    {
     "data": {
      "text/plain": [
       "SentenceTransformer(\n",
       "  (0): Transformer({'max_seq_length': 128, 'do_lower_case': False}) with Transformer model: BertModel \n",
       "  (1): Pooling({'word_embedding_dimension': 384, 'pooling_mode_cls_token': False, 'pooling_mode_mean_tokens': True, 'pooling_mode_max_tokens': False, 'pooling_mode_mean_sqrt_len_tokens': False})\n",
       ")"
      ]
     },
     "execution_count": 5,
     "metadata": {},
     "output_type": "execute_result"
    }
   ],
   "source": [
    "## Initiate Model\n",
    "model = SentenceTransformer('sentence-transformers/paraphrase-multilingual-MiniLM-L12-v2')\n",
    "model.to(torch.device(\"cuda\"))"
   ]
  },
  {
   "cell_type": "code",
   "execution_count": 6,
   "id": "3a8c6d9a",
   "metadata": {
    "ExecuteTime": {
     "end_time": "2021-07-14T06:27:05.203997Z",
     "start_time": "2021-07-14T06:26:53.881782Z"
    }
   },
   "outputs": [
    {
     "name": "stdout",
     "output_type": "stream",
     "text": [
      "(4750, 384)\n"
     ]
    }
   ],
   "source": [
    "## Getting Embedding for app shopify apps\n",
    "embeddings = model.encode(apps_df.description.astype(str).to_list())\n",
    "print(embeddings.shape)"
   ]
  },
  {
   "cell_type": "code",
   "execution_count": 23,
   "id": "82e87f60",
   "metadata": {
    "ExecuteTime": {
     "end_time": "2021-07-14T06:33:32.898314Z",
     "start_time": "2021-07-14T06:33:32.878096Z"
    }
   },
   "outputs": [],
   "source": [
    "## Creating App2idx \n",
    "app2idx = {app_id:idx for idx,app_id in enumerate(apps_df.app_id)}"
   ]
  },
  {
   "cell_type": "markdown",
   "id": "860fb4ae",
   "metadata": {},
   "source": [
    "This model returns embedding of size 384"
   ]
  },
  {
   "cell_type": "markdown",
   "id": "9e4aa126",
   "metadata": {},
   "source": [
    "## Step 2: Define parameters and build Annoy Index"
   ]
  },
  {
   "cell_type": "code",
   "execution_count": 17,
   "id": "e5d5954c",
   "metadata": {
    "ExecuteTime": {
     "end_time": "2021-07-14T06:28:39.062743Z",
     "start_time": "2021-07-14T06:28:38.727731Z"
    }
   },
   "outputs": [
    {
     "data": {
      "text/plain": [
       "True"
      ]
     },
     "execution_count": 17,
     "metadata": {},
     "output_type": "execute_result"
    }
   ],
   "source": [
    "f = embeddings.shape[1] # Length of item vector that will be indexed\n",
    "t = AnnoyIndex(f, 'angular')  ## Defining index\n",
    "for idx, vector in enumerate(embeddings):\n",
    "    t.add_item(idx, vector)\n",
    "\n",
    "## Caculating trees\n",
    "t.build(int(np.round(np.sqrt(len(embeddings))))) # Number of trees = sqrt(length of embedding vector)\n",
    "t.save(str(dataPath/'appEmbedding.ann')) ## saving the annoy index"
   ]
  },
  {
   "cell_type": "markdown",
   "id": "20a2e6ff",
   "metadata": {},
   "source": [
    "## Step 3:  Search similar apps"
   ]
  },
  {
   "cell_type": "code",
   "execution_count": 29,
   "id": "3fbf4ed6",
   "metadata": {
    "ExecuteTime": {
     "end_time": "2021-07-14T06:38:14.385946Z",
     "start_time": "2021-07-14T06:38:14.365674Z"
    }
   },
   "outputs": [],
   "source": [
    "def get_similar_apps(app_id, app2idx, app_data, annoy_index, n_items=5):\n",
    "    query_idx = app2idx[app_id]\n",
    "    idxs = annoy_index.get_nns_by_item(query_idx, n_items+1)\n",
    "    return app_data.iloc[idxs,:]"
   ]
  },
  {
   "cell_type": "markdown",
   "id": "57a1d074",
   "metadata": {},
   "source": [
    "### Some Examples"
   ]
  },
  {
   "cell_type": "code",
   "execution_count": 30,
   "id": "65d2c651",
   "metadata": {
    "ExecuteTime": {
     "end_time": "2021-07-14T06:38:15.321210Z",
     "start_time": "2021-07-14T06:38:15.293489Z"
    }
   },
   "outputs": [
    {
     "data": {
      "text/html": [
       "<div>\n",
       "<style scoped>\n",
       "    .dataframe tbody tr th:only-of-type {\n",
       "        vertical-align: middle;\n",
       "    }\n",
       "\n",
       "    .dataframe tbody tr th {\n",
       "        vertical-align: top;\n",
       "    }\n",
       "\n",
       "    .dataframe thead th {\n",
       "        text-align: right;\n",
       "    }\n",
       "</style>\n",
       "<table border=\"1\" class=\"dataframe\">\n",
       "  <thead>\n",
       "    <tr style=\"text-align: right;\">\n",
       "      <th></th>\n",
       "      <th>app_id</th>\n",
       "      <th>url</th>\n",
       "      <th>title</th>\n",
       "      <th>description</th>\n",
       "      <th>tagline</th>\n",
       "      <th>category</th>\n",
       "    </tr>\n",
       "  </thead>\n",
       "  <tbody>\n",
       "    <tr>\n",
       "      <th>0</th>\n",
       "      <td>9e4748a9-7eda-4814-83b6-0537d44152b1</td>\n",
       "      <td>https://apps.shopify.com/translate</td>\n",
       "      <td>Panda Language Translate</td>\n",
       "      <td>Panda Language Translation improve your busine...</td>\n",
       "      <td>Translate your store into multiple languages</td>\n",
       "      <td>Store design</td>\n",
       "    </tr>\n",
       "    <tr>\n",
       "      <th>893</th>\n",
       "      <td>be566fe3-2449-4ae5-8b59-06b79a668dff</td>\n",
       "      <td>https://apps.shopify.com/mokool-translate-pro</td>\n",
       "      <td>Translate Pro Using Google</td>\n",
       "      <td>Do you want both more customers and to increas...</td>\n",
       "      <td>Auto Translate to 100 languages in fast. Unlim...</td>\n",
       "      <td>Store design</td>\n",
       "    </tr>\n",
       "    <tr>\n",
       "      <th>2409</th>\n",
       "      <td>6de8f41b-f0f6-4e3c-b5b4-731b833741e3</td>\n",
       "      <td>https://apps.shopify.com/easy-language-translate</td>\n",
       "      <td>Easy Language Translate</td>\n",
       "      <td>Translate your store and attract global visito...</td>\n",
       "      <td>Experience a better way to translate store and...</td>\n",
       "      <td>Store design</td>\n",
       "    </tr>\n",
       "    <tr>\n",
       "      <th>1396</th>\n",
       "      <td>cccdbfd7-b1fd-4079-8b49-280e19f3a8b9</td>\n",
       "      <td>https://apps.shopify.com/translate-my-store</td>\n",
       "      <td>Translate My Store</td>\n",
       "      <td>Limited Time Offer for the next 500 users: You...</td>\n",
       "      <td>Translate your store, increase sales in global...</td>\n",
       "      <td>Store design</td>\n",
       "    </tr>\n",
       "    <tr>\n",
       "      <th>1892</th>\n",
       "      <td>6281aca5-c6f7-4858-a445-813ec7214abc</td>\n",
       "      <td>https://apps.shopify.com/language-translate-by...</td>\n",
       "      <td>Uplinkly Language Translate</td>\n",
       "      <td>Click ‘Add App’ to start using the translation...</td>\n",
       "      <td>Translate your store &amp; get more sales automati...</td>\n",
       "      <td>Store design</td>\n",
       "    </tr>\n",
       "    <tr>\n",
       "      <th>4268</th>\n",
       "      <td>9b6804b6-91d8-4813-a353-f5080155fe56</td>\n",
       "      <td>https://apps.shopify.com/langify</td>\n",
       "      <td>langify</td>\n",
       "      <td>How does langify improve the business of your ...</td>\n",
       "      <td>Translate your shop into multiple languages</td>\n",
       "      <td>Store design</td>\n",
       "    </tr>\n",
       "  </tbody>\n",
       "</table>\n",
       "</div>"
      ],
      "text/plain": [
       "                                    app_id  \\\n",
       "0     9e4748a9-7eda-4814-83b6-0537d44152b1   \n",
       "893   be566fe3-2449-4ae5-8b59-06b79a668dff   \n",
       "2409  6de8f41b-f0f6-4e3c-b5b4-731b833741e3   \n",
       "1396  cccdbfd7-b1fd-4079-8b49-280e19f3a8b9   \n",
       "1892  6281aca5-c6f7-4858-a445-813ec7214abc   \n",
       "4268  9b6804b6-91d8-4813-a353-f5080155fe56   \n",
       "\n",
       "                                                    url  \\\n",
       "0                    https://apps.shopify.com/translate   \n",
       "893       https://apps.shopify.com/mokool-translate-pro   \n",
       "2409   https://apps.shopify.com/easy-language-translate   \n",
       "1396        https://apps.shopify.com/translate-my-store   \n",
       "1892  https://apps.shopify.com/language-translate-by...   \n",
       "4268                   https://apps.shopify.com/langify   \n",
       "\n",
       "                            title  \\\n",
       "0        Panda Language Translate   \n",
       "893    Translate Pro Using Google   \n",
       "2409      Easy Language Translate   \n",
       "1396           Translate My Store   \n",
       "1892  Uplinkly Language Translate   \n",
       "4268                      langify   \n",
       "\n",
       "                                            description  \\\n",
       "0     Panda Language Translation improve your busine...   \n",
       "893   Do you want both more customers and to increas...   \n",
       "2409  Translate your store and attract global visito...   \n",
       "1396  Limited Time Offer for the next 500 users: You...   \n",
       "1892  Click ‘Add App’ to start using the translation...   \n",
       "4268  How does langify improve the business of your ...   \n",
       "\n",
       "                                                tagline      category  \n",
       "0          Translate your store into multiple languages  Store design  \n",
       "893   Auto Translate to 100 languages in fast. Unlim...  Store design  \n",
       "2409  Experience a better way to translate store and...  Store design  \n",
       "1396  Translate your store, increase sales in global...  Store design  \n",
       "1892  Translate your store & get more sales automati...  Store design  \n",
       "4268        Translate your shop into multiple languages  Store design  "
      ]
     },
     "execution_count": 30,
     "metadata": {},
     "output_type": "execute_result"
    }
   ],
   "source": [
    "## Langugage translation apps\n",
    "get_similar_apps(app_id=\"9e4748a9-7eda-4814-83b6-0537d44152b1\" , app2idx = app2idx, app_data = apps_df, annoy_index=t, n_items=5)"
   ]
  },
  {
   "cell_type": "markdown",
   "id": "47c834e7",
   "metadata": {},
   "source": [
    "The top row is the query indexed and bottom 5 rows are the similar apps returned by annoy. Looks like translatation app is returning translations"
   ]
  },
  {
   "cell_type": "code",
   "execution_count": 36,
   "id": "ea0c5c4b",
   "metadata": {
    "ExecuteTime": {
     "end_time": "2021-07-14T06:40:57.850059Z",
     "start_time": "2021-07-14T06:40:57.819042Z"
    }
   },
   "outputs": [
    {
     "data": {
      "text/html": [
       "<div>\n",
       "<style scoped>\n",
       "    .dataframe tbody tr th:only-of-type {\n",
       "        vertical-align: middle;\n",
       "    }\n",
       "\n",
       "    .dataframe tbody tr th {\n",
       "        vertical-align: top;\n",
       "    }\n",
       "\n",
       "    .dataframe thead th {\n",
       "        text-align: right;\n",
       "    }\n",
       "</style>\n",
       "<table border=\"1\" class=\"dataframe\">\n",
       "  <thead>\n",
       "    <tr style=\"text-align: right;\">\n",
       "      <th></th>\n",
       "      <th>app_id</th>\n",
       "      <th>url</th>\n",
       "      <th>title</th>\n",
       "      <th>description</th>\n",
       "      <th>tagline</th>\n",
       "      <th>category</th>\n",
       "    </tr>\n",
       "  </thead>\n",
       "  <tbody>\n",
       "    <tr>\n",
       "      <th>1896</th>\n",
       "      <td>d957681d-0ceb-4226-bde4-75a5ff4cc10d</td>\n",
       "      <td>https://apps.shopify.com/evmupsell</td>\n",
       "      <td>Discounted Upsell Bundle, Bogo</td>\n",
       "      <td>==== # Officially the Sellify Apps Alternative...</td>\n",
       "      <td>Upsellio - In cart upsell, buy x get y, BOGO &amp;...</td>\n",
       "      <td>Sales and conversion optimization</td>\n",
       "    </tr>\n",
       "    <tr>\n",
       "      <th>2498</th>\n",
       "      <td>f3b34865-523a-4f88-8e69-95023eed9a37</td>\n",
       "      <td>https://apps.shopify.com/dnt-upsell</td>\n",
       "      <td>Easy Upsell Cross‑sell</td>\n",
       "      <td>Upsell and Cross-sell product app on Shopify b...</td>\n",
       "      <td>Increase sales with upsell, cross-sell and mak...</td>\n",
       "      <td>Sales and conversion optimization</td>\n",
       "    </tr>\n",
       "    <tr>\n",
       "      <th>3847</th>\n",
       "      <td>f718b743-2b12-40d5-8935-db20587ea678</td>\n",
       "      <td>https://apps.shopify.com/in-cart-upsell</td>\n",
       "      <td>In Cart Upsell</td>\n",
       "      <td>Targeted, Popup-Free Upsells \\n In Cart Upsell...</td>\n",
       "      <td>Laser targeted upsell offers in the shopping c...</td>\n",
       "      <td>Store design,Sales and conversion optimization</td>\n",
       "    </tr>\n",
       "    <tr>\n",
       "      <th>2479</th>\n",
       "      <td>1ee3ad7a-248e-4b32-bb0b-0b9ba76b888d</td>\n",
       "      <td>https://apps.shopify.com/upseller-product-upsell</td>\n",
       "      <td>SellUp • Free Upsell App</td>\n",
       "      <td>Increase your sales and up your upsell game wi...</td>\n",
       "      <td>Upsell, Bundles, Discounts, Cross-sell &amp; One C...</td>\n",
       "      <td>Sales and conversion optimization</td>\n",
       "    </tr>\n",
       "    <tr>\n",
       "      <th>4471</th>\n",
       "      <td>c4359733-0471-47ab-8959-bf6bd569181e</td>\n",
       "      <td>https://apps.shopify.com/product-upsell-manager</td>\n",
       "      <td>Upsell &amp; Cross‑Sell Booster</td>\n",
       "      <td>Features \\n \\n This app gives you the ability ...</td>\n",
       "      <td>Can show targeted products as an offer to rele...</td>\n",
       "      <td>Sales and conversion optimization</td>\n",
       "    </tr>\n",
       "    <tr>\n",
       "      <th>3521</th>\n",
       "      <td>76f39b1f-1c05-4fb0-9616-dd508132349d</td>\n",
       "      <td>https://apps.shopify.com/checkout-booster</td>\n",
       "      <td>Upsell + Related Products</td>\n",
       "      <td>4 in 1 Sales Booster App (with Upsell cross-se...</td>\n",
       "      <td>Upsell Popup, Recently Viewed Products, BOGO O...</td>\n",
       "      <td>Store design</td>\n",
       "    </tr>\n",
       "  </tbody>\n",
       "</table>\n",
       "</div>"
      ],
      "text/plain": [
       "                                    app_id  \\\n",
       "1896  d957681d-0ceb-4226-bde4-75a5ff4cc10d   \n",
       "2498  f3b34865-523a-4f88-8e69-95023eed9a37   \n",
       "3847  f718b743-2b12-40d5-8935-db20587ea678   \n",
       "2479  1ee3ad7a-248e-4b32-bb0b-0b9ba76b888d   \n",
       "4471  c4359733-0471-47ab-8959-bf6bd569181e   \n",
       "3521  76f39b1f-1c05-4fb0-9616-dd508132349d   \n",
       "\n",
       "                                                   url  \\\n",
       "1896                https://apps.shopify.com/evmupsell   \n",
       "2498               https://apps.shopify.com/dnt-upsell   \n",
       "3847           https://apps.shopify.com/in-cart-upsell   \n",
       "2479  https://apps.shopify.com/upseller-product-upsell   \n",
       "4471   https://apps.shopify.com/product-upsell-manager   \n",
       "3521         https://apps.shopify.com/checkout-booster   \n",
       "\n",
       "                               title  \\\n",
       "1896  Discounted Upsell Bundle, Bogo   \n",
       "2498          Easy Upsell Cross‑sell   \n",
       "3847                  In Cart Upsell   \n",
       "2479        SellUp • Free Upsell App   \n",
       "4471     Upsell & Cross‑Sell Booster   \n",
       "3521       Upsell + Related Products   \n",
       "\n",
       "                                            description  \\\n",
       "1896  ==== # Officially the Sellify Apps Alternative...   \n",
       "2498  Upsell and Cross-sell product app on Shopify b...   \n",
       "3847  Targeted, Popup-Free Upsells \\n In Cart Upsell...   \n",
       "2479  Increase your sales and up your upsell game wi...   \n",
       "4471  Features \\n \\n This app gives you the ability ...   \n",
       "3521  4 in 1 Sales Booster App (with Upsell cross-se...   \n",
       "\n",
       "                                                tagline  \\\n",
       "1896  Upsellio - In cart upsell, buy x get y, BOGO &...   \n",
       "2498  Increase sales with upsell, cross-sell and mak...   \n",
       "3847  Laser targeted upsell offers in the shopping c...   \n",
       "2479  Upsell, Bundles, Discounts, Cross-sell & One C...   \n",
       "4471  Can show targeted products as an offer to rele...   \n",
       "3521  Upsell Popup, Recently Viewed Products, BOGO O...   \n",
       "\n",
       "                                            category  \n",
       "1896               Sales and conversion optimization  \n",
       "2498               Sales and conversion optimization  \n",
       "3847  Store design,Sales and conversion optimization  \n",
       "2479               Sales and conversion optimization  \n",
       "4471               Sales and conversion optimization  \n",
       "3521                                    Store design  "
      ]
     },
     "execution_count": 36,
     "metadata": {},
     "output_type": "execute_result"
    }
   ],
   "source": [
    "query_id = apps_df.loc[np.random.randint(0, len(apps_df)),'app_id'] ##randomly choosing an app_id\n",
    "get_similar_apps(app_id=query_id , app2idx = app2idx, app_data = apps_df, annoy_index=t, n_items=5) ## Query for similar apps"
   ]
  },
  {
   "cell_type": "markdown",
   "id": "5b310f3d",
   "metadata": {},
   "source": [
    "Upsell Related apps are returning upsell"
   ]
  },
  {
   "cell_type": "code",
   "execution_count": 37,
   "id": "74f7371c",
   "metadata": {
    "ExecuteTime": {
     "end_time": "2021-07-14T06:44:39.968746Z",
     "start_time": "2021-07-14T06:44:39.929047Z"
    }
   },
   "outputs": [
    {
     "data": {
      "text/html": [
       "<div>\n",
       "<style scoped>\n",
       "    .dataframe tbody tr th:only-of-type {\n",
       "        vertical-align: middle;\n",
       "    }\n",
       "\n",
       "    .dataframe tbody tr th {\n",
       "        vertical-align: top;\n",
       "    }\n",
       "\n",
       "    .dataframe thead th {\n",
       "        text-align: right;\n",
       "    }\n",
       "</style>\n",
       "<table border=\"1\" class=\"dataframe\">\n",
       "  <thead>\n",
       "    <tr style=\"text-align: right;\">\n",
       "      <th></th>\n",
       "      <th>app_id</th>\n",
       "      <th>url</th>\n",
       "      <th>title</th>\n",
       "      <th>description</th>\n",
       "      <th>tagline</th>\n",
       "      <th>category</th>\n",
       "    </tr>\n",
       "  </thead>\n",
       "  <tbody>\n",
       "    <tr>\n",
       "      <th>1101</th>\n",
       "      <td>5557170e-c5db-44b4-82a5-31db79a7363d</td>\n",
       "      <td>https://apps.shopify.com/predictive-preloader</td>\n",
       "      <td>Instant Page Speeds AI Powered</td>\n",
       "      <td>We use machine learning AI to predict where us...</td>\n",
       "      <td>Increase Sales, Conv. Rates, Reduce Bounce, 1-...</td>\n",
       "      <td>Store design</td>\n",
       "    </tr>\n",
       "    <tr>\n",
       "      <th>3806</th>\n",
       "      <td>5a37f0f7-0090-4750-b4d5-806dd1d74179</td>\n",
       "      <td>https://apps.shopify.com/plug-in-speed</td>\n",
       "      <td>Plug in Speed optimizer</td>\n",
       "      <td>Click \"Add App\" for a free trial of the code a...</td>\n",
       "      <td>Compress and Optimize Images, CSS &amp; Javascript...</td>\n",
       "      <td>Marketing</td>\n",
       "    </tr>\n",
       "    <tr>\n",
       "      <th>939</th>\n",
       "      <td>ccd7adc7-2430-459e-96c2-25ba91cbaf87</td>\n",
       "      <td>https://apps.shopify.com/avada-seo-suite</td>\n",
       "      <td>AVADA SEO Image Optimizer FREE</td>\n",
       "      <td>We guarantee to contribute this app for FREE F...</td>\n",
       "      <td>FREE FOREVER GUARANTEE! SEO Image Optimizer, A...</td>\n",
       "      <td>Store design,Marketing</td>\n",
       "    </tr>\n",
       "    <tr>\n",
       "      <th>516</th>\n",
       "      <td>0fe33ede-d70c-4369-af6e-d5e6d7d39949</td>\n",
       "      <td>https://apps.shopify.com/jumbo-page-speed-opti...</td>\n",
       "      <td>Jumbo ‑ Page speed optimizer</td>\n",
       "      <td>Jumbo Shopify Page Speed Optimizer. \\n Jumbo o...</td>\n",
       "      <td>Page speed optimizer for improved conversion a...</td>\n",
       "      <td>Store design</td>\n",
       "    </tr>\n",
       "    <tr>\n",
       "      <th>1374</th>\n",
       "      <td>d305c7f0-7d20-40e3-be85-f97c809cd4c1</td>\n",
       "      <td>https://apps.shopify.com/page-speed-boost</td>\n",
       "      <td>Page Speed+SEO Image Optimizer</td>\n",
       "      <td>High-quality images make your store a nice app...</td>\n",
       "      <td>Image Compression, Site Speed Optimization, Pa...</td>\n",
       "      <td>Store design</td>\n",
       "    </tr>\n",
       "    <tr>\n",
       "      <th>4729</th>\n",
       "      <td>ac6fa8f3-bc49-40c9-9cbb-f974322c799a</td>\n",
       "      <td>https://apps.shopify.com/imageoptimizer</td>\n",
       "      <td>Image Optimizer</td>\n",
       "      <td>Speed up Your Store, Improve SEO and User Expe...</td>\n",
       "      <td>Image Optimizer: Image Compression and Image S...</td>\n",
       "      <td>Store design</td>\n",
       "    </tr>\n",
       "  </tbody>\n",
       "</table>\n",
       "</div>"
      ],
      "text/plain": [
       "                                    app_id  \\\n",
       "1101  5557170e-c5db-44b4-82a5-31db79a7363d   \n",
       "3806  5a37f0f7-0090-4750-b4d5-806dd1d74179   \n",
       "939   ccd7adc7-2430-459e-96c2-25ba91cbaf87   \n",
       "516   0fe33ede-d70c-4369-af6e-d5e6d7d39949   \n",
       "1374  d305c7f0-7d20-40e3-be85-f97c809cd4c1   \n",
       "4729  ac6fa8f3-bc49-40c9-9cbb-f974322c799a   \n",
       "\n",
       "                                                    url  \\\n",
       "1101      https://apps.shopify.com/predictive-preloader   \n",
       "3806             https://apps.shopify.com/plug-in-speed   \n",
       "939            https://apps.shopify.com/avada-seo-suite   \n",
       "516   https://apps.shopify.com/jumbo-page-speed-opti...   \n",
       "1374          https://apps.shopify.com/page-speed-boost   \n",
       "4729            https://apps.shopify.com/imageoptimizer   \n",
       "\n",
       "                               title  \\\n",
       "1101  Instant Page Speeds AI Powered   \n",
       "3806         Plug in Speed optimizer   \n",
       "939   AVADA SEO Image Optimizer FREE   \n",
       "516     Jumbo ‑ Page speed optimizer   \n",
       "1374  Page Speed+SEO Image Optimizer   \n",
       "4729                 Image Optimizer   \n",
       "\n",
       "                                            description  \\\n",
       "1101  We use machine learning AI to predict where us...   \n",
       "3806  Click \"Add App\" for a free trial of the code a...   \n",
       "939   We guarantee to contribute this app for FREE F...   \n",
       "516   Jumbo Shopify Page Speed Optimizer. \\n Jumbo o...   \n",
       "1374  High-quality images make your store a nice app...   \n",
       "4729  Speed up Your Store, Improve SEO and User Expe...   \n",
       "\n",
       "                                                tagline  \\\n",
       "1101  Increase Sales, Conv. Rates, Reduce Bounce, 1-...   \n",
       "3806  Compress and Optimize Images, CSS & Javascript...   \n",
       "939   FREE FOREVER GUARANTEE! SEO Image Optimizer, A...   \n",
       "516   Page speed optimizer for improved conversion a...   \n",
       "1374  Image Compression, Site Speed Optimization, Pa...   \n",
       "4729  Image Optimizer: Image Compression and Image S...   \n",
       "\n",
       "                    category  \n",
       "1101            Store design  \n",
       "3806               Marketing  \n",
       "939   Store design,Marketing  \n",
       "516             Store design  \n",
       "1374            Store design  \n",
       "4729            Store design  "
      ]
     },
     "execution_count": 37,
     "metadata": {},
     "output_type": "execute_result"
    }
   ],
   "source": [
    "query_id = apps_df.loc[np.random.randint(0, len(apps_df)),'app_id'] ##randomly choosing an app_id\n",
    "get_similar_apps(app_id=query_id , app2idx = app2idx, app_data = apps_df, annoy_index=t, n_items=5) ## Query for similar apps"
   ]
  },
  {
   "cell_type": "markdown",
   "id": "1274d342",
   "metadata": {},
   "source": [
    "Page seats optimizer apps are returning right results"
   ]
  }
 ],
 "metadata": {
  "kernelspec": {
   "display_name": "Python 3",
   "language": "python",
   "name": "python3"
  },
  "language_info": {
   "codemirror_mode": {
    "name": "ipython",
    "version": 3
   },
   "file_extension": ".py",
   "mimetype": "text/x-python",
   "name": "python",
   "nbconvert_exporter": "python",
   "pygments_lexer": "ipython3",
   "version": "3.8.5"
  },
  "toc": {
   "base_numbering": 1,
   "nav_menu": {},
   "number_sections": true,
   "sideBar": true,
   "skip_h1_title": false,
   "title_cell": "Table of Contents",
   "title_sidebar": "Contents",
   "toc_cell": false,
   "toc_position": {},
   "toc_section_display": true,
   "toc_window_display": true
  }
 },
 "nbformat": 4,
 "nbformat_minor": 5
}
