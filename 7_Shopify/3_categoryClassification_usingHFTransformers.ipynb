{
 "cells": [
  {
   "cell_type": "markdown",
   "metadata": {
    "heading_collapsed": true
   },
   "source": [
    "## Import library"
   ]
  },
  {
   "cell_type": "code",
   "execution_count": 1,
   "metadata": {
    "ExecuteTime": {
     "end_time": "2021-07-13T05:15:04.998400Z",
     "start_time": "2021-07-13T05:15:03.777486Z"
    },
    "hidden": true
   },
   "outputs": [],
   "source": [
    "from pathlib import Path\n",
    "import pandas as pd\n",
    "import numpy as np\n",
    "from sklearn.preprocessing import MultiLabelBinarizer\n",
    "from sklearn.model_selection import train_test_split\n",
    "\n",
    "import torch\n",
    "from torch import nn\n",
    "from torch.utils.data import DataLoader\n",
    "from transformers import BertTokenizer, DataCollatorWithPadding, BertModel\n",
    "from tqdm import tqdm\n",
    "\n",
    "from transformers import AdamW\n",
    "from transformers import get_linear_schedule_with_warmup"
   ]
  },
  {
   "cell_type": "markdown",
   "metadata": {
    "heading_collapsed": true
   },
   "source": [
    "## Load Data"
   ]
  },
  {
   "cell_type": "code",
   "execution_count": 2,
   "metadata": {
    "ExecuteTime": {
     "end_time": "2021-07-13T05:15:07.545135Z",
     "start_time": "2021-07-13T05:15:07.530286Z"
    },
    "hidden": true
   },
   "outputs": [
    {
     "data": {
      "text/plain": [
       "[PosixPath('../data/shopify/models'),\n",
       " PosixPath('../data/shopify/raw'),\n",
       " PosixPath('../data/shopify/shopify_apps.csv')]"
      ]
     },
     "execution_count": 2,
     "metadata": {},
     "output_type": "execute_result"
    }
   ],
   "source": [
    "dataPath = Path(\"../data/shopify/\")\n",
    "[files for files in dataPath.glob(\"*\")]"
   ]
  },
  {
   "cell_type": "code",
   "execution_count": 3,
   "metadata": {
    "ExecuteTime": {
     "end_time": "2021-07-13T05:15:08.411795Z",
     "start_time": "2021-07-13T05:15:08.302538Z"
    },
    "hidden": true
   },
   "outputs": [
    {
     "data": {
      "text/html": [
       "<div>\n",
       "<style scoped>\n",
       "    .dataframe tbody tr th:only-of-type {\n",
       "        vertical-align: middle;\n",
       "    }\n",
       "\n",
       "    .dataframe tbody tr th {\n",
       "        vertical-align: top;\n",
       "    }\n",
       "\n",
       "    .dataframe thead th {\n",
       "        text-align: right;\n",
       "    }\n",
       "</style>\n",
       "<table border=\"1\" class=\"dataframe\">\n",
       "  <thead>\n",
       "    <tr style=\"text-align: right;\">\n",
       "      <th></th>\n",
       "      <th>app_id</th>\n",
       "      <th>url</th>\n",
       "      <th>title</th>\n",
       "      <th>description</th>\n",
       "      <th>tagline</th>\n",
       "      <th>category</th>\n",
       "    </tr>\n",
       "  </thead>\n",
       "  <tbody>\n",
       "    <tr>\n",
       "      <th>0</th>\n",
       "      <td>9e4748a9-7eda-4814-83b6-0537d44152b1</td>\n",
       "      <td>https://apps.shopify.com/translate</td>\n",
       "      <td>Panda Language Translate</td>\n",
       "      <td>Panda Language Translation improve your busine...</td>\n",
       "      <td>Translate your store into multiple languages</td>\n",
       "      <td>Store design</td>\n",
       "    </tr>\n",
       "    <tr>\n",
       "      <th>1</th>\n",
       "      <td>d1476138-a608-4bb9-8d39-b30f3ca7617d</td>\n",
       "      <td>https://apps.shopify.com/instant-brand-page</td>\n",
       "      <td>Instant Brand Page</td>\n",
       "      <td>Having a brand page gives your shoppers a quic...</td>\n",
       "      <td>A-Z Brand Index Page and Favourites Slider</td>\n",
       "      <td>Store design</td>\n",
       "    </tr>\n",
       "    <tr>\n",
       "      <th>2</th>\n",
       "      <td>d6e49a3c-2f9f-4bfa-8c26-5d024faf2241</td>\n",
       "      <td>https://apps.shopify.com/powr-faq</td>\n",
       "      <td>FAQ Accordion | Help Center</td>\n",
       "      <td>Create, organize and display Frequently Asked ...</td>\n",
       "      <td>FAQ page, FAQ accordion menu for product Info ...</td>\n",
       "      <td>Store design,Customer support</td>\n",
       "    </tr>\n",
       "    <tr>\n",
       "      <th>3</th>\n",
       "      <td>0ef0087f-3ae5-4dbc-84e0-193b576d82ed</td>\n",
       "      <td>https://apps.shopify.com/mps-promote-me</td>\n",
       "      <td>Promote Me | Many apps in one</td>\n",
       "      <td>Promote Me app is a bundle of apps that includ...</td>\n",
       "      <td>Spin Wheel,Currency Converter,Quick ATC Button...</td>\n",
       "      <td>Store design,Sales and conversion optimization</td>\n",
       "    </tr>\n",
       "    <tr>\n",
       "      <th>4</th>\n",
       "      <td>7aac2a1f-ff03-4f38-aeb7-7619403a6f05</td>\n",
       "      <td>https://apps.shopify.com/installify-boost-mobi...</td>\n",
       "      <td>Instalify</td>\n",
       "      <td>We are trusted by hundreds of Shopify and Shop...</td>\n",
       "      <td>Supercharge Your Mobile App Installs</td>\n",
       "      <td>Store design</td>\n",
       "    </tr>\n",
       "    <tr>\n",
       "      <th>5</th>\n",
       "      <td>c13bfb7f-8b5a-40c6-a338-dbdec5cfd130</td>\n",
       "      <td>https://apps.shopify.com/easy-product-feed</td>\n",
       "      <td>EASY product feed</td>\n",
       "      <td>There are a lot of product feed apps out there...</td>\n",
       "      <td>Get your products listed on Google Shopping th...</td>\n",
       "      <td>Marketing</td>\n",
       "    </tr>\n",
       "    <tr>\n",
       "      <th>6</th>\n",
       "      <td>6a71634f-f94f-498d-8713-d2b01ca90917</td>\n",
       "      <td>https://apps.shopify.com/posbill-connect</td>\n",
       "      <td>PosBill Connect</td>\n",
       "      <td>PosBill Connect - the perfection connection to...</td>\n",
       "      <td>Connect your Webshop to the solutions of PosBill.</td>\n",
       "      <td>Orders and shipping,Inventory management</td>\n",
       "    </tr>\n",
       "    <tr>\n",
       "      <th>7</th>\n",
       "      <td>da50f0bf-d116-46a0-b0c1-0d90c05d8ffe</td>\n",
       "      <td>https://apps.shopify.com/bulk-fulfill</td>\n",
       "      <td>Bulk Fulfill</td>\n",
       "      <td>Upload to fulfill: \\n Bulk Fulfill by Upatra a...</td>\n",
       "      <td>Reduce wasted time - Automatically sync your t...</td>\n",
       "      <td>Orders and shipping,Productivity</td>\n",
       "    </tr>\n",
       "    <tr>\n",
       "      <th>8</th>\n",
       "      <td>89735c3c-4d25-40f2-8b54-150f59cfb099</td>\n",
       "      <td>https://apps.shopify.com/show-price-in-btc</td>\n",
       "      <td>Show Price in BTC</td>\n",
       "      <td>Simply convert your store's prices into ANY cu...</td>\n",
       "      <td>A better currency converter app. Premium featu...</td>\n",
       "      <td>Store design</td>\n",
       "    </tr>\n",
       "    <tr>\n",
       "      <th>9</th>\n",
       "      <td>3c89c108-4858-4b07-893a-460ea5a0d91a</td>\n",
       "      <td>https://apps.shopify.com/product-copy</td>\n",
       "      <td>POKY ‑ Product Importer</td>\n",
       "      <td>Poky \\n Allows you to import/copy products fro...</td>\n",
       "      <td>Copy / Import products from any Shop store wit...</td>\n",
       "      <td>Productivity,Finding and adding products</td>\n",
       "    </tr>\n",
       "  </tbody>\n",
       "</table>\n",
       "</div>"
      ],
      "text/plain": [
       "                                 app_id  \\\n",
       "0  9e4748a9-7eda-4814-83b6-0537d44152b1   \n",
       "1  d1476138-a608-4bb9-8d39-b30f3ca7617d   \n",
       "2  d6e49a3c-2f9f-4bfa-8c26-5d024faf2241   \n",
       "3  0ef0087f-3ae5-4dbc-84e0-193b576d82ed   \n",
       "4  7aac2a1f-ff03-4f38-aeb7-7619403a6f05   \n",
       "5  c13bfb7f-8b5a-40c6-a338-dbdec5cfd130   \n",
       "6  6a71634f-f94f-498d-8713-d2b01ca90917   \n",
       "7  da50f0bf-d116-46a0-b0c1-0d90c05d8ffe   \n",
       "8  89735c3c-4d25-40f2-8b54-150f59cfb099   \n",
       "9  3c89c108-4858-4b07-893a-460ea5a0d91a   \n",
       "\n",
       "                                                 url  \\\n",
       "0                 https://apps.shopify.com/translate   \n",
       "1        https://apps.shopify.com/instant-brand-page   \n",
       "2                  https://apps.shopify.com/powr-faq   \n",
       "3            https://apps.shopify.com/mps-promote-me   \n",
       "4  https://apps.shopify.com/installify-boost-mobi...   \n",
       "5         https://apps.shopify.com/easy-product-feed   \n",
       "6           https://apps.shopify.com/posbill-connect   \n",
       "7              https://apps.shopify.com/bulk-fulfill   \n",
       "8         https://apps.shopify.com/show-price-in-btc   \n",
       "9              https://apps.shopify.com/product-copy   \n",
       "\n",
       "                           title  \\\n",
       "0       Panda Language Translate   \n",
       "1             Instant Brand Page   \n",
       "2    FAQ Accordion | Help Center   \n",
       "3  Promote Me | Many apps in one   \n",
       "4                      Instalify   \n",
       "5              EASY product feed   \n",
       "6                PosBill Connect   \n",
       "7                   Bulk Fulfill   \n",
       "8              Show Price in BTC   \n",
       "9        POKY ‑ Product Importer   \n",
       "\n",
       "                                         description  \\\n",
       "0  Panda Language Translation improve your busine...   \n",
       "1  Having a brand page gives your shoppers a quic...   \n",
       "2  Create, organize and display Frequently Asked ...   \n",
       "3  Promote Me app is a bundle of apps that includ...   \n",
       "4  We are trusted by hundreds of Shopify and Shop...   \n",
       "5  There are a lot of product feed apps out there...   \n",
       "6  PosBill Connect - the perfection connection to...   \n",
       "7  Upload to fulfill: \\n Bulk Fulfill by Upatra a...   \n",
       "8  Simply convert your store's prices into ANY cu...   \n",
       "9  Poky \\n Allows you to import/copy products fro...   \n",
       "\n",
       "                                             tagline  \\\n",
       "0       Translate your store into multiple languages   \n",
       "1         A-Z Brand Index Page and Favourites Slider   \n",
       "2  FAQ page, FAQ accordion menu for product Info ...   \n",
       "3  Spin Wheel,Currency Converter,Quick ATC Button...   \n",
       "4               Supercharge Your Mobile App Installs   \n",
       "5  Get your products listed on Google Shopping th...   \n",
       "6  Connect your Webshop to the solutions of PosBill.   \n",
       "7  Reduce wasted time - Automatically sync your t...   \n",
       "8  A better currency converter app. Premium featu...   \n",
       "9  Copy / Import products from any Shop store wit...   \n",
       "\n",
       "                                         category  \n",
       "0                                    Store design  \n",
       "1                                    Store design  \n",
       "2                   Store design,Customer support  \n",
       "3  Store design,Sales and conversion optimization  \n",
       "4                                    Store design  \n",
       "5                                       Marketing  \n",
       "6        Orders and shipping,Inventory management  \n",
       "7                Orders and shipping,Productivity  \n",
       "8                                    Store design  \n",
       "9        Productivity,Finding and adding products  "
      ]
     },
     "execution_count": 3,
     "metadata": {},
     "output_type": "execute_result"
    }
   ],
   "source": [
    "apps_df = pd.read_csv(dataPath/\"shopify_apps.csv\")\n",
    "apps_df.head(10)"
   ]
  },
  {
   "cell_type": "markdown",
   "metadata": {
    "ExecuteTime": {
     "end_time": "2021-07-12T00:09:15.323951Z",
     "start_time": "2021-07-12T00:09:15.321295Z"
    },
    "heading_collapsed": true
   },
   "source": [
    "## Creating Multilabel targets"
   ]
  },
  {
   "cell_type": "code",
   "execution_count": 4,
   "metadata": {
    "ExecuteTime": {
     "end_time": "2021-07-13T05:15:11.293490Z",
     "start_time": "2021-07-13T05:15:11.282806Z"
    },
    "hidden": true
   },
   "outputs": [],
   "source": [
    "apps_df['category'] = apps_df.category.apply(lambda x: x.split(','))\n",
    "mlb = MultiLabelBinarizer()\n",
    "targets = mlb.fit_transform(apps_df.category)"
   ]
  },
  {
   "cell_type": "markdown",
   "metadata": {
    "heading_collapsed": true
   },
   "source": [
    "## Train Test Split"
   ]
  },
  {
   "cell_type": "code",
   "execution_count": 5,
   "metadata": {
    "ExecuteTime": {
     "end_time": "2021-07-13T05:15:14.015106Z",
     "start_time": "2021-07-13T05:15:14.006852Z"
    },
    "hidden": true
   },
   "outputs": [],
   "source": [
    "X_train, X_test, y_train, y_test = train_test_split(apps_df.drop(['category'],axis=1), apps_df.category, test_size=0.2, random_state =21)"
   ]
  },
  {
   "cell_type": "code",
   "execution_count": 6,
   "metadata": {
    "ExecuteTime": {
     "end_time": "2021-07-13T05:15:14.738259Z",
     "start_time": "2021-07-13T05:15:14.734430Z"
    },
    "hidden": true
   },
   "outputs": [],
   "source": [
    "X_train.reset_index(drop=True, inplace=True)\n",
    "X_test.reset_index(drop=True, inplace=True)\n",
    "y_train = targets[y_train.index]\n",
    "y_test = targets[y_test.index]"
   ]
  },
  {
   "cell_type": "code",
   "execution_count": 7,
   "metadata": {
    "ExecuteTime": {
     "end_time": "2021-07-13T05:15:15.450668Z",
     "start_time": "2021-07-13T05:15:15.446523Z"
    },
    "hidden": true
   },
   "outputs": [
    {
     "data": {
      "text/plain": [
       "((3800, 5), (3800, 12), (950, 5), (950, 12))"
      ]
     },
     "execution_count": 7,
     "metadata": {},
     "output_type": "execute_result"
    }
   ],
   "source": [
    "X_train.shape, y_train.shape, X_test.shape, y_test.shape"
   ]
  },
  {
   "cell_type": "markdown",
   "metadata": {},
   "source": [
    "## Instantiating a Tokenizer"
   ]
  },
  {
   "cell_type": "code",
   "execution_count": 8,
   "metadata": {
    "ExecuteTime": {
     "end_time": "2021-07-13T05:15:19.531735Z",
     "start_time": "2021-07-13T05:15:18.222859Z"
    }
   },
   "outputs": [],
   "source": [
    "## Specifying which bert model to use\n",
    "checkpoint = \"bert-base-uncased\"\n",
    "## Loading Tokenizer for the respective checkpoint\n",
    "tokenizer = BertTokenizer.from_pretrained(checkpoint)"
   ]
  },
  {
   "cell_type": "markdown",
   "metadata": {},
   "source": [
    "## BertDataset Class"
   ]
  },
  {
   "cell_type": "code",
   "execution_count": 10,
   "metadata": {
    "ExecuteTime": {
     "end_time": "2021-07-13T05:16:09.256903Z",
     "start_time": "2021-07-13T05:16:09.251450Z"
    }
   },
   "outputs": [],
   "source": [
    "class BertDataset:\n",
    "    def __init__(self, sentence1, target, tokenizer):\n",
    "        self.sentence1 = sentence1\n",
    "        self.target = target\n",
    "        self.tokenizer = tokenizer\n",
    "        pass\n",
    "    \n",
    "    def __len__(self):\n",
    "        return len(self.sentence1)\n",
    "    \n",
    "    def __getitem__(self, idx):\n",
    "        sentence1 = self.sentence1[idx]\n",
    "        \n",
    "        ##inputs = self.tokenizer(sentence1, sentence2, truncation=True)\n",
    "        inputs = self.tokenizer.encode_plus(\n",
    "            sentence1,\n",
    "            None,\n",
    "            add_special_tokens=True,\n",
    "            max_length=128, ## Sequence length\n",
    "            padding='max_length', ## Pad to 128\n",
    "            truncation=True ## Truncate if bigger\n",
    "        )\n",
    "        \n",
    "        ids = inputs[\"input_ids\"]\n",
    "        mask = inputs[\"attention_mask\"]\n",
    "        token_type_ids = inputs[\"token_type_ids\"]\n",
    "        \n",
    "        return {\n",
    "            \"input_ids\": torch.tensor(ids, dtype=torch.long),\n",
    "            \"attention_mask\": torch.tensor(mask, dtype=torch.long),\n",
    "            \"token_type_ids\": torch.tensor(token_type_ids, dtype=torch.long),\n",
    "            \"targets\": torch.tensor(self.target[idx], dtype=torch.float)\n",
    "        }"
   ]
  },
  {
   "cell_type": "code",
   "execution_count": 12,
   "metadata": {
    "ExecuteTime": {
     "end_time": "2021-07-13T05:16:25.520726Z",
     "start_time": "2021-07-13T05:16:25.515700Z"
    }
   },
   "outputs": [],
   "source": [
    "train_dataset = BertDataset(\n",
    "    sentence1 = X_train.description.astype('str'),\n",
    "    target=y_train,\n",
    "    tokenizer=tokenizer\n",
    ")\n",
    "\n",
    "test_dataset = BertDataset(\n",
    "    sentence1 = X_test.description.astype('str'),\n",
    "    target = y_test,\n",
    "    tokenizer=tokenizer\n",
    ")"
   ]
  },
  {
   "cell_type": "code",
   "execution_count": 13,
   "metadata": {
    "ExecuteTime": {
     "end_time": "2021-07-13T05:16:28.182013Z",
     "start_time": "2021-07-13T05:16:28.171691Z"
    }
   },
   "outputs": [
    {
     "data": {
      "text/plain": [
       "{'input_ids': tensor([  101,  6412,  6047,  9598, 10463,  2131,  5310,  3295,  8073,  1998,\n",
       "         10463,  2035,  7597,  2000,  2037,  2334, 12731, 14343, 14767,  1012,\n",
       "          2036,  8834,  1037,  4530,  7698, 12183,  2000,  2689,  9598,  4289,\n",
       "          1012,  9958,  2248,  5198,  5198,  2013,  2060,  9530,  3775,  6072,\n",
       "          2514,  8796,  2000,  3191,  7597,  1999,  2060,  9598,  1010,  2000,\n",
       "          2012,  7559,  6593,  2122,  2828,  1997,  5198,  2256, 10439,  7126,\n",
       "          2017,  1012,  8272,  1999,  2309, 11562,  6047,  9598, 10463,  2121,\n",
       "         10439,  2003,  2200,  4248,  1998,  3733,  2000, 16500,  1012,  2689,\n",
       "          2028,  2465,  1999,  2115,  3573, 10906,  1998,  2717,  2097,  5047,\n",
       "          2011, 10439,  8073,  1012,  2057,  3073,  2035,  2828,  1997,  2490,\n",
       "          1012,  2022, 21823, 12031,  7597, 10439,  2097,  2022,  8352,  2011,\n",
       "          2048, 26066,  3182,  2061,  2009,  2097,  2507,  3835,  5310,  8278,\n",
       "          1012,  2838,  1024,  6882,  3674,  9598,  9530,   102]),\n",
       " 'attention_mask': tensor([1, 1, 1, 1, 1, 1, 1, 1, 1, 1, 1, 1, 1, 1, 1, 1, 1, 1, 1, 1, 1, 1, 1, 1,\n",
       "         1, 1, 1, 1, 1, 1, 1, 1, 1, 1, 1, 1, 1, 1, 1, 1, 1, 1, 1, 1, 1, 1, 1, 1,\n",
       "         1, 1, 1, 1, 1, 1, 1, 1, 1, 1, 1, 1, 1, 1, 1, 1, 1, 1, 1, 1, 1, 1, 1, 1,\n",
       "         1, 1, 1, 1, 1, 1, 1, 1, 1, 1, 1, 1, 1, 1, 1, 1, 1, 1, 1, 1, 1, 1, 1, 1,\n",
       "         1, 1, 1, 1, 1, 1, 1, 1, 1, 1, 1, 1, 1, 1, 1, 1, 1, 1, 1, 1, 1, 1, 1, 1,\n",
       "         1, 1, 1, 1, 1, 1, 1, 1]),\n",
       " 'token_type_ids': tensor([0, 0, 0, 0, 0, 0, 0, 0, 0, 0, 0, 0, 0, 0, 0, 0, 0, 0, 0, 0, 0, 0, 0, 0,\n",
       "         0, 0, 0, 0, 0, 0, 0, 0, 0, 0, 0, 0, 0, 0, 0, 0, 0, 0, 0, 0, 0, 0, 0, 0,\n",
       "         0, 0, 0, 0, 0, 0, 0, 0, 0, 0, 0, 0, 0, 0, 0, 0, 0, 0, 0, 0, 0, 0, 0, 0,\n",
       "         0, 0, 0, 0, 0, 0, 0, 0, 0, 0, 0, 0, 0, 0, 0, 0, 0, 0, 0, 0, 0, 0, 0, 0,\n",
       "         0, 0, 0, 0, 0, 0, 0, 0, 0, 0, 0, 0, 0, 0, 0, 0, 0, 0, 0, 0, 0, 0, 0, 0,\n",
       "         0, 0, 0, 0, 0, 0, 0, 0]),\n",
       " 'targets': tensor([0., 0., 0., 0., 0., 0., 0., 0., 0., 0., 1., 0.])}"
      ]
     },
     "execution_count": 13,
     "metadata": {},
     "output_type": "execute_result"
    }
   ],
   "source": [
    "## check\n",
    "train_dataset[0]"
   ]
  },
  {
   "cell_type": "markdown",
   "metadata": {},
   "source": [
    "## Creating Data Loaders"
   ]
  },
  {
   "cell_type": "code",
   "execution_count": 14,
   "metadata": {
    "ExecuteTime": {
     "end_time": "2021-07-13T05:16:31.674036Z",
     "start_time": "2021-07-13T05:16:31.670752Z"
    }
   },
   "outputs": [],
   "source": [
    "train_dataloader = DataLoader(\n",
    "    train_dataset, shuffle=True, batch_size=8\n",
    ")\n",
    "\n",
    "test_dataloader  = DataLoader(\n",
    "    test_dataset, batch_size=8\n",
    ")"
   ]
  },
  {
   "cell_type": "code",
   "execution_count": 15,
   "metadata": {
    "ExecuteTime": {
     "end_time": "2021-07-13T05:16:33.501023Z",
     "start_time": "2021-07-13T05:16:33.462778Z"
    }
   },
   "outputs": [
    {
     "data": {
      "text/plain": [
       "{'input_ids': torch.Size([8, 128]),\n",
       " 'attention_mask': torch.Size([8, 128]),\n",
       " 'token_type_ids': torch.Size([8, 128]),\n",
       " 'targets': torch.Size([8, 12])}"
      ]
     },
     "execution_count": 15,
     "metadata": {},
     "output_type": "execute_result"
    }
   ],
   "source": [
    "for batch in train_dataloader:\n",
    "    break\n",
    "{k: v.shape for k, v in batch.items()}"
   ]
  },
  {
   "cell_type": "markdown",
   "metadata": {},
   "source": [
    "## Model Class"
   ]
  },
  {
   "cell_type": "code",
   "execution_count": 16,
   "metadata": {
    "ExecuteTime": {
     "end_time": "2021-07-13T05:16:37.128965Z",
     "start_time": "2021-07-13T05:16:37.122968Z"
    }
   },
   "outputs": [],
   "source": [
    "class MultilabeledSequenceModel(nn.Module):\n",
    "    def __init__(self,\n",
    "                 pretrained_model_name,\n",
    "                 label_nbr):\n",
    "        \"\"\"\n",
    "        Just extends the AutoModelForSequenceClassification for N labels\n",
    "        pretrained_model_name string -> name of the pretrained model to be fetched from HuggingFace repo\n",
    "        label_nbr int -> number of labels of the dataset\n",
    "        \"\"\"\n",
    "        super(MultilabeledSequenceModel,self).__init__()\n",
    "        self.transformer = BertModel.from_pretrained(pretrained_model_name)\n",
    "        self.classifier = nn.Sequential(\n",
    "            nn.Dropout(0.1),\n",
    "            nn.Linear(768,label_nbr)\n",
    "        )\n",
    "\n",
    "    def forward(self, input_ids, attention_mask, token_type_ids):\n",
    "        x = self.transformer(\n",
    "            input_ids=input_ids, \n",
    "            attention_mask=attention_mask, \n",
    "            token_type_ids=token_type_ids\n",
    "        )[1]\n",
    "        return self.classifier(x)"
   ]
  },
  {
   "cell_type": "markdown",
   "metadata": {},
   "source": [
    "## Loss Function"
   ]
  },
  {
   "cell_type": "code",
   "execution_count": 17,
   "metadata": {
    "ExecuteTime": {
     "end_time": "2021-07-13T05:16:39.734393Z",
     "start_time": "2021-07-13T05:16:39.731289Z"
    }
   },
   "outputs": [],
   "source": [
    "def loss_fn(logits, targets):\n",
    "    bceLoss = nn.BCEWithLogitsLoss()\n",
    "    return bceLoss(logits, targets)"
   ]
  },
  {
   "cell_type": "code",
   "execution_count": 18,
   "metadata": {
    "ExecuteTime": {
     "end_time": "2021-07-13T05:16:44.570069Z",
     "start_time": "2021-07-13T05:16:41.835504Z"
    }
   },
   "outputs": [
    {
     "name": "stderr",
     "output_type": "stream",
     "text": [
      "<ipython-input-18-3c65f8928f34>:10: UserWarning: To copy construct from a tensor, it is recommended to use sourceTensor.clone().detach() or sourceTensor.clone().detach().requires_grad_(True), rather than torch.tensor(sourceTensor).\n",
      "  loss_fn(torch.tensor(preds, dtype = float), batch['targets'])\n"
     ]
    },
    {
     "data": {
      "text/plain": [
       "tensor(0.7686)"
      ]
     },
     "execution_count": 18,
     "metadata": {},
     "output_type": "execute_result"
    }
   ],
   "source": [
    "## check\n",
    "model = MultilabeledSequenceModel(checkpoint, 12)\n",
    "\n",
    "preds = model(\n",
    "    input_ids=batch[\"input_ids\"], \n",
    "    attention_mask=batch[\"attention_mask\"],  \n",
    "    token_type_ids=batch[\"token_type_ids\"])\n",
    "\n",
    "del model\n",
    "loss_fn(torch.tensor(preds, dtype = float), batch['targets'])"
   ]
  },
  {
   "cell_type": "markdown",
   "metadata": {},
   "source": [
    "## Training and Testing Function"
   ]
  },
  {
   "cell_type": "code",
   "execution_count": 19,
   "metadata": {
    "ExecuteTime": {
     "end_time": "2021-07-13T05:17:03.732445Z",
     "start_time": "2021-07-13T05:17:03.726813Z"
    }
   },
   "outputs": [],
   "source": [
    "## Training Function\n",
    "def train_fn(data_loader, model, optimizer, device, scheduler):\n",
    "    ## Setting model in training mode\n",
    "    model.to(device)\n",
    "    model.train()\n",
    "    \n",
    "    for idx, d in tqdm(enumerate(data_loader), total=len(data_loader)):\n",
    "        input_ids = batch['input_ids'].to(device, dtype=torch.long)\n",
    "        attention_mask = batch['attention_mask'].to(device, dtype=torch.long)\n",
    "        token_type_ids = batch['token_type_ids'].to(device, dtype=torch.long)\n",
    "        targets = batch[\"targets\"].to(device, dtype=torch.float)\n",
    "        \n",
    "        ## Making optimizer gradient to zero\n",
    "        optimizer.zero_grad()\n",
    "        \n",
    "        ## Calcualte output\n",
    "        outputs = model(\n",
    "            input_ids = input_ids, \n",
    "            attention_mask= attention_mask, \n",
    "            token_type_ids=token_type_ids\n",
    "        )\n",
    "        \n",
    "        ## Calculate loss\n",
    "        loss = loss_fn(outputs, targets)\n",
    "        \n",
    "        ## Compute gradients\n",
    "        loss.backward()\n",
    "        \n",
    "        ## updating weights\n",
    "        optimizer.step()\n",
    "        \n",
    "        scheduler.step()"
   ]
  },
  {
   "cell_type": "code",
   "execution_count": 20,
   "metadata": {
    "ExecuteTime": {
     "end_time": "2021-07-13T05:17:06.087893Z",
     "start_time": "2021-07-13T05:17:06.082901Z"
    }
   },
   "outputs": [],
   "source": [
    "def eval_fn(data_loader, model, device):\n",
    "    model.to(device)\n",
    "    model.eval()\n",
    "    fin_targets = []\n",
    "    fin_outputs = []\n",
    "    with torch.no_grad():\n",
    "        for bi, d in tqdm(enumerate(data_loader), total=len(data_loader)):\n",
    "            \n",
    "            input_ids = batch['input_ids'].to(device, dtype=torch.long)\n",
    "            attention_mask = batch['attention_mask'].to(device, dtype=torch.long)\n",
    "            token_type_ids = batch['token_type_ids'].to(device, dtype=torch.long)\n",
    "            \n",
    "            targets = batch[\"targets\"]\n",
    "            fin_targets.extend(targets.detach().numpy().tolist())\n",
    "            \n",
    "            outputs = model(input_ids = input_ids, attention_mask= attention_mask, token_type_ids=token_type_ids)\n",
    "            fin_outputs.extend(torch.sigmoid(outputs).cpu().detach().numpy().tolist())\n",
    "            \n",
    "    return fin_outputs, fin_targets"
   ]
  },
  {
   "cell_type": "markdown",
   "metadata": {},
   "source": [
    "## Metric Function"
   ]
  },
  {
   "cell_type": "code",
   "execution_count": 21,
   "metadata": {
    "ExecuteTime": {
     "end_time": "2021-07-13T05:17:11.030597Z",
     "start_time": "2021-07-13T05:17:11.027248Z"
    }
   },
   "outputs": [],
   "source": [
    "def accuracy_thresh(y_pred, y_true, thresh=0.5):\n",
    "    \"Compute accuracy when `y_pred` and `y_true` are the same size.\"\n",
    "    return ((np.array(y_pred)>thresh).astype(float)==np.array(y_true)).mean()"
   ]
  },
  {
   "cell_type": "code",
   "execution_count": 22,
   "metadata": {
    "ExecuteTime": {
     "end_time": "2021-07-13T05:17:27.592788Z",
     "start_time": "2021-07-13T05:17:12.106550Z"
    }
   },
   "outputs": [
    {
     "name": "stderr",
     "output_type": "stream",
     "text": [
      "100%|██████████| 119/119 [00:10<00:00, 11.33it/s]\n"
     ]
    },
    {
     "data": {
      "text/plain": [
       "0.4791666666666667"
      ]
     },
     "execution_count": 22,
     "metadata": {},
     "output_type": "execute_result"
    }
   ],
   "source": [
    "## check\n",
    "model = MultilabeledSequenceModel(checkpoint, 12)\n",
    "o,t = eval_fn(\n",
    "    data_loader = test_dataloader, \n",
    "    model=model,\n",
    "    device = torch.device(\"cuda\")\n",
    ")\n",
    "del model\n",
    "accuracy_thresh(y_pred = o, y_true = t, thresh=0.5)"
   ]
  },
  {
   "cell_type": "markdown",
   "metadata": {
    "ExecuteTime": {
     "end_time": "2021-07-13T04:13:38.778094Z",
     "start_time": "2021-07-13T04:13:38.775558Z"
    }
   },
   "source": [
    "## Run Model"
   ]
  },
  {
   "cell_type": "code",
   "execution_count": 23,
   "metadata": {
    "ExecuteTime": {
     "end_time": "2021-07-13T05:17:34.533950Z",
     "start_time": "2021-07-13T05:17:32.222922Z"
    }
   },
   "outputs": [],
   "source": [
    "## Initiate model\n",
    "model = MultilabeledSequenceModel(checkpoint, 12)"
   ]
  },
  {
   "cell_type": "code",
   "execution_count": 24,
   "metadata": {
    "ExecuteTime": {
     "end_time": "2021-07-13T05:17:34.542055Z",
     "start_time": "2021-07-13T05:17:34.535704Z"
    }
   },
   "outputs": [],
   "source": [
    "param_optimizer = list(model.named_parameters())\n",
    "no_decay = [\"bias\", \"LayerNorm.bias\", \"LayerNorm.weight\"]\n",
    "optimizer_parameters = [\n",
    "    {\n",
    "        \"params\": [\n",
    "            p for n, p in param_optimizer if not any(nd in n for nd in no_decay)\n",
    "        ],\n",
    "        \"weight_decay\": 0.001,\n",
    "    },\n",
    "    {\n",
    "        \"params\": [\n",
    "            p for n, p in param_optimizer if any(nd in n for nd in no_decay)\n",
    "        ],\n",
    "        \"weight_decay\": 0.0,\n",
    "    },\n",
    "]\n",
    "\n",
    "\n",
    "num_train_steps = int(len(X_train) / 8 * 5)\n",
    "optimizer = AdamW(optimizer_parameters, lr=3e-5)\n",
    "scheduler = get_linear_schedule_with_warmup(optimizer, num_warmup_steps=0, num_training_steps=num_train_steps)"
   ]
  },
  {
   "cell_type": "code",
   "execution_count": 25,
   "metadata": {
    "ExecuteTime": {
     "end_time": "2021-07-13T05:23:13.021327Z",
     "start_time": "2021-07-13T05:17:43.952793Z"
    }
   },
   "outputs": [
    {
     "name": "stderr",
     "output_type": "stream",
     "text": [
      "100%|██████████| 475/475 [01:39<00:00,  4.79it/s]\n",
      "100%|██████████| 119/119 [00:10<00:00, 11.64it/s]\n",
      "  0%|          | 0/475 [00:00<?, ?it/s]"
     ]
    },
    {
     "name": "stdout",
     "output_type": "stream",
     "text": [
      "Epoch : 0 Accuracy Score = 100.0%\n"
     ]
    },
    {
     "name": "stderr",
     "output_type": "stream",
     "text": [
      "100%|██████████| 475/475 [01:39<00:00,  4.78it/s]\n",
      "100%|██████████| 119/119 [00:10<00:00, 11.62it/s]\n",
      "  0%|          | 0/475 [00:00<?, ?it/s]"
     ]
    },
    {
     "name": "stdout",
     "output_type": "stream",
     "text": [
      "Epoch : 1 Accuracy Score = 100.0%\n"
     ]
    },
    {
     "name": "stderr",
     "output_type": "stream",
     "text": [
      "100%|██████████| 475/475 [01:39<00:00,  4.77it/s]\n",
      "100%|██████████| 119/119 [00:10<00:00, 11.65it/s]"
     ]
    },
    {
     "name": "stdout",
     "output_type": "stream",
     "text": [
      "Epoch : 2 Accuracy Score = 100.0%\n"
     ]
    },
    {
     "name": "stderr",
     "output_type": "stream",
     "text": [
      "\n"
     ]
    }
   ],
   "source": [
    "## Train Model\n",
    "best_accuracy = 0\n",
    "n_epoch = 3\n",
    "device = torch.device(\"cuda\")\n",
    "for epoch in range(3):\n",
    "    ## Call Training\n",
    "    train_fn(train_dataloader, model=model, optimizer=optimizer, device=device, scheduler=scheduler)\n",
    "    \n",
    "    ## Call Evaluation\n",
    "    o, t = eval_fn(test_dataloader, model, device)\n",
    "    \n",
    "    ## Compute metric\n",
    "    accuracy = accuracy_thresh(y_pred = o, y_true = t, thresh= 0.5)\n",
    "    print(f\"Epoch : {epoch} Accuracy Score = {accuracy*100}%\")"
   ]
  },
  {
   "cell_type": "code",
   "execution_count": 26,
   "metadata": {
    "ExecuteTime": {
     "end_time": "2021-07-13T05:23:23.283207Z",
     "start_time": "2021-07-13T05:23:13.023122Z"
    }
   },
   "outputs": [
    {
     "name": "stderr",
     "output_type": "stream",
     "text": [
      "100%|██████████| 119/119 [00:10<00:00, 11.62it/s]\n"
     ]
    },
    {
     "data": {
      "text/plain": [
       "1.0"
      ]
     },
     "execution_count": 26,
     "metadata": {},
     "output_type": "execute_result"
    }
   ],
   "source": [
    "o,t = eval_fn(\n",
    "    data_loader = test_dataloader, \n",
    "    model=model,\n",
    "    device = torch.device(\"cuda\")\n",
    ")\n",
    "accuracy_thresh(y_pred = o, y_true = t, thresh=0.5)"
   ]
  },
  {
   "cell_type": "code",
   "execution_count": 34,
   "metadata": {
    "ExecuteTime": {
     "end_time": "2021-07-13T05:25:56.383805Z",
     "start_time": "2021-07-13T05:25:55.356411Z"
    }
   },
   "outputs": [],
   "source": [
    "## save model\n",
    "torch.save(model.state_dict(), dataPath/\"models/hf_bert.bin\")"
   ]
  },
  {
   "cell_type": "code",
   "execution_count": 37,
   "metadata": {
    "ExecuteTime": {
     "end_time": "2021-07-13T05:29:23.488161Z",
     "start_time": "2021-07-13T05:29:10.228504Z"
    }
   },
   "outputs": [
    {
     "name": "stderr",
     "output_type": "stream",
     "text": [
      "100%|██████████| 119/119 [00:10<00:00, 11.67it/s]\n"
     ]
    },
    {
     "data": {
      "text/plain": [
       "1.0"
      ]
     },
     "execution_count": 37,
     "metadata": {},
     "output_type": "execute_result"
    }
   ],
   "source": [
    "## Loading Model\n",
    "model = MultilabeledSequenceModel(checkpoint, 12)\n",
    "model.load_state_dict(torch.load(dataPath/\"models/hf_bert.bin\"))\n",
    "model.to(torch.device(\"cuda\"))\n",
    "o,t = eval_fn(\n",
    "    data_loader = test_dataloader, \n",
    "    model=model,\n",
    "    device = torch.device(\"cuda\")\n",
    ")\n",
    "accuracy_thresh(y_pred = o, y_true = t, thresh=0.5)"
   ]
  },
  {
   "cell_type": "code",
   "execution_count": 41,
   "metadata": {
    "ExecuteTime": {
     "end_time": "2021-07-13T05:30:47.025727Z",
     "start_time": "2021-07-13T05:30:47.017524Z"
    }
   },
   "outputs": [
    {
     "data": {
      "text/plain": [
       "([('Finances', 'Reporting'),\n",
       "  ('Sales and conversion optimization', 'Store design'),\n",
       "  ('Store design',),\n",
       "  ('Store design',),\n",
       "  ('Trust and security',)],\n",
       " [('Finances', 'Reporting'),\n",
       "  ('Sales and conversion optimization', 'Store design'),\n",
       "  ('Store design',),\n",
       "  ('Store design',),\n",
       "  ('Trust and security',)])"
      ]
     },
     "execution_count": 41,
     "metadata": {},
     "output_type": "execute_result"
    }
   ],
   "source": [
    "mlb.inverse_transform(np.array(o)[0:5] > 0.5), mlb.inverse_transform(np.array(t)[0:5])"
   ]
  }
 ],
 "metadata": {
  "kernelspec": {
   "display_name": "Python 3",
   "language": "python",
   "name": "python3"
  },
  "language_info": {
   "codemirror_mode": {
    "name": "ipython",
    "version": 3
   },
   "file_extension": ".py",
   "mimetype": "text/x-python",
   "name": "python",
   "nbconvert_exporter": "python",
   "pygments_lexer": "ipython3",
   "version": "3.8.5"
  },
  "toc": {
   "base_numbering": 1,
   "nav_menu": {},
   "number_sections": true,
   "sideBar": true,
   "skip_h1_title": false,
   "title_cell": "Table of Contents",
   "title_sidebar": "Contents",
   "toc_cell": false,
   "toc_position": {},
   "toc_section_display": true,
   "toc_window_display": false
  }
 },
 "nbformat": 4,
 "nbformat_minor": 4
}
