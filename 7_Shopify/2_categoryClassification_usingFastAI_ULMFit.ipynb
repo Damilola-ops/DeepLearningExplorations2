{
 "cells": [
  {
   "cell_type": "markdown",
   "metadata": {
    "heading_collapsed": true
   },
   "source": [
    "## Import Library"
   ]
  },
  {
   "cell_type": "code",
   "execution_count": 1,
   "metadata": {
    "ExecuteTime": {
     "end_time": "2021-07-11T20:59:03.446131Z",
     "start_time": "2021-07-11T20:59:01.769410Z"
    },
    "hidden": true
   },
   "outputs": [],
   "source": [
    "import pandas as pd\n",
    "import numpy as np\n",
    "import matplotlib.pyplot as plt\n",
    "from pathlib import Path\n",
    "from fastai.text.all import *\n",
    "%matplotlib inline\n",
    "pd.options.display.max_columns = None"
   ]
  },
  {
   "cell_type": "markdown",
   "metadata": {
    "heading_collapsed": true
   },
   "source": [
    "## Import Data"
   ]
  },
  {
   "cell_type": "code",
   "execution_count": 2,
   "metadata": {
    "ExecuteTime": {
     "end_time": "2021-07-11T20:59:05.797425Z",
     "start_time": "2021-07-11T20:59:05.788303Z"
    },
    "hidden": true
   },
   "outputs": [
    {
     "data": {
      "text/plain": [
       "[Path('../data/shopify/models'),\n",
       " Path('../data/shopify/raw'),\n",
       " Path('../data/shopify/shopify_apps.csv')]"
      ]
     },
     "execution_count": 2,
     "metadata": {},
     "output_type": "execute_result"
    }
   ],
   "source": [
    "dataPath = Path(\"../data/shopify/\")\n",
    "[file for file in dataPath.glob('*')]"
   ]
  },
  {
   "cell_type": "code",
   "execution_count": 3,
   "metadata": {
    "ExecuteTime": {
     "end_time": "2021-07-11T20:59:07.887404Z",
     "start_time": "2021-07-11T20:59:07.768848Z"
    },
    "hidden": true
   },
   "outputs": [
    {
     "name": "stdout",
     "output_type": "stream",
     "text": [
      "(4750, 6)\n"
     ]
    },
    {
     "data": {
      "text/html": [
       "<div>\n",
       "<style scoped>\n",
       "    .dataframe tbody tr th:only-of-type {\n",
       "        vertical-align: middle;\n",
       "    }\n",
       "\n",
       "    .dataframe tbody tr th {\n",
       "        vertical-align: top;\n",
       "    }\n",
       "\n",
       "    .dataframe thead th {\n",
       "        text-align: right;\n",
       "    }\n",
       "</style>\n",
       "<table border=\"1\" class=\"dataframe\">\n",
       "  <thead>\n",
       "    <tr style=\"text-align: right;\">\n",
       "      <th></th>\n",
       "      <th>app_id</th>\n",
       "      <th>url</th>\n",
       "      <th>title</th>\n",
       "      <th>description</th>\n",
       "      <th>tagline</th>\n",
       "      <th>category</th>\n",
       "    </tr>\n",
       "  </thead>\n",
       "  <tbody>\n",
       "    <tr>\n",
       "      <th>0</th>\n",
       "      <td>9e4748a9-7eda-4814-83b6-0537d44152b1</td>\n",
       "      <td>https://apps.shopify.com/translate</td>\n",
       "      <td>Panda Language Translate</td>\n",
       "      <td>Panda Language Translation improve your business Internationally \\n\\n Every store owners would like to: \\n\\n Increase sales by acquiring new customers\\nImprove conversion by speaking your visitors language \\n\\n Many of customers might leave your store because they are not: \\n\\n \\n Redirected to your shop matching their preferred language \\n Allow an option to choose their own preferred language with Flag option \\n Customers from all around the world expect your store to be available in their preferred language \\n \\n\\n Translate the gap by allowing easily provide multilingual translate tool...</td>\n",
       "      <td>Translate your store into multiple languages</td>\n",
       "      <td>Store design</td>\n",
       "    </tr>\n",
       "    <tr>\n",
       "      <th>1</th>\n",
       "      <td>d1476138-a608-4bb9-8d39-b30f3ca7617d</td>\n",
       "      <td>https://apps.shopify.com/instant-brand-page</td>\n",
       "      <td>Instant Brand Page</td>\n",
       "      <td>Having a brand page gives your shoppers a quick way to see the variety in your inventory and identify with their favourite brands. \\n No coding required and image support without needing a collection per brand!! Key Features \\n \\n Three different layouts to choose from. \\n Style your brand page how you want it. \\n Automatic matching to collections - saves you time! \\n Use collection images or upload your own custom brand image. \\n Use sale icons to show your customers their favourite brands with discounted products. \\n Sale icons will display dynamically if set - no management required! \\n...</td>\n",
       "      <td>A-Z Brand Index Page and Favourites Slider</td>\n",
       "      <td>Store design</td>\n",
       "    </tr>\n",
       "    <tr>\n",
       "      <th>2</th>\n",
       "      <td>d6e49a3c-2f9f-4bfa-8c26-5d024faf2241</td>\n",
       "      <td>https://apps.shopify.com/powr-faq</td>\n",
       "      <td>FAQ Accordion | Help Center</td>\n",
       "      <td>Create, organize and display Frequently Asked Questions on any page. \\n Make finding an answer to common questions easy! With POWr FAQ Accordion you can: \\n\\n \\n Reduce support requests by adding answers to frequent questions about product info to your website. \\n Include shipping details, your refund policy and more on your Help Centre page. \\n Use an accordian layout to make it easy to browse through different questions. \\n Expand answers to your most frequent questions. \\n Include text, links, images, and videos in your answers. \\n Add a search bar to make your FAQ accordion searchable....</td>\n",
       "      <td>FAQ page, FAQ accordion menu for product Info &amp; refund policy</td>\n",
       "      <td>Store design,Customer support</td>\n",
       "    </tr>\n",
       "    <tr>\n",
       "      <th>3</th>\n",
       "      <td>0ef0087f-3ae5-4dbc-84e0-193b576d82ed</td>\n",
       "      <td>https://apps.shopify.com/mps-promote-me</td>\n",
       "      <td>Promote Me | Many apps in one</td>\n",
       "      <td>Promote Me app is a bundle of apps that includes many Shopify apps, aimed at boosting sales by increasing conversion rate and decreasing page load time. We will including more and more apps as app updates. \\n Finetune Store Apps \\n \\n Back to Top button \\n Open External Links in New Tabs \\n Terms and Conditions on Cart \\n Skip Cart on Product page \\n Remove Shopify Branding \\n Geolocation Redirect \\n \\n Protect Store Apps \\n \\n Advanced Cookie Bar \\n Copy Protection Plus \\n Hide Best Selling Filter \\n \\n Improve Experience Apps \\n \\n Search Autocomplete \\n Instant Page Loader \\n Currency C...</td>\n",
       "      <td>Spin Wheel,Currency Converter,Quick ATC Buttons &amp; 18+ apps...</td>\n",
       "      <td>Store design,Sales and conversion optimization</td>\n",
       "    </tr>\n",
       "    <tr>\n",
       "      <th>4</th>\n",
       "      <td>7aac2a1f-ff03-4f38-aeb7-7619403a6f05</td>\n",
       "      <td>https://apps.shopify.com/installify-boost-mobile-app-installs</td>\n",
       "      <td>Instalify</td>\n",
       "      <td>We are trusted by hundreds of Shopify and Shopify Plus customers from around the world. \\n Let your customers know that you have now launched your mobile apps. Guide them to the App Store or Play Store to easily download and start using your app. We have seen our customers who use Instalify get more installs saving them thousands of dollars in marketing. \\n 3 Key Benefits: \\n \\n Increase Mobile App Installs- Organically increase your mobile app installs by guiding your website customers to your app. \\n Easy Setup- Quick and simple set up that takes less than 5 minutes \\n Powerful Analytics...</td>\n",
       "      <td>Supercharge Your Mobile App Installs</td>\n",
       "      <td>Store design</td>\n",
       "    </tr>\n",
       "  </tbody>\n",
       "</table>\n",
       "</div>"
      ],
      "text/plain": [
       "                                 app_id  \\\n",
       "0  9e4748a9-7eda-4814-83b6-0537d44152b1   \n",
       "1  d1476138-a608-4bb9-8d39-b30f3ca7617d   \n",
       "2  d6e49a3c-2f9f-4bfa-8c26-5d024faf2241   \n",
       "3  0ef0087f-3ae5-4dbc-84e0-193b576d82ed   \n",
       "4  7aac2a1f-ff03-4f38-aeb7-7619403a6f05   \n",
       "\n",
       "                                                             url  \\\n",
       "0                             https://apps.shopify.com/translate   \n",
       "1                    https://apps.shopify.com/instant-brand-page   \n",
       "2                              https://apps.shopify.com/powr-faq   \n",
       "3                        https://apps.shopify.com/mps-promote-me   \n",
       "4  https://apps.shopify.com/installify-boost-mobile-app-installs   \n",
       "\n",
       "                           title  \\\n",
       "0       Panda Language Translate   \n",
       "1             Instant Brand Page   \n",
       "2    FAQ Accordion | Help Center   \n",
       "3  Promote Me | Many apps in one   \n",
       "4                      Instalify   \n",
       "\n",
       "                                                                                                                                                                                                                                                                                                                                                                                                                                                                                                                                                                                                               description  \\\n",
       "0  Panda Language Translation improve your business Internationally \\n\\n Every store owners would like to: \\n\\n Increase sales by acquiring new customers\\nImprove conversion by speaking your visitors language \\n\\n Many of customers might leave your store because they are not: \\n\\n \\n Redirected to your shop matching their preferred language \\n Allow an option to choose their own preferred language with Flag option \\n Customers from all around the world expect your store to be available in their preferred language \\n \\n\\n Translate the gap by allowing easily provide multilingual translate tool...   \n",
       "1  Having a brand page gives your shoppers a quick way to see the variety in your inventory and identify with their favourite brands. \\n No coding required and image support without needing a collection per brand!! Key Features \\n \\n Three different layouts to choose from. \\n Style your brand page how you want it. \\n Automatic matching to collections - saves you time! \\n Use collection images or upload your own custom brand image. \\n Use sale icons to show your customers their favourite brands with discounted products. \\n Sale icons will display dynamically if set - no management required! \\n...   \n",
       "2  Create, organize and display Frequently Asked Questions on any page. \\n Make finding an answer to common questions easy! With POWr FAQ Accordion you can: \\n\\n \\n Reduce support requests by adding answers to frequent questions about product info to your website. \\n Include shipping details, your refund policy and more on your Help Centre page. \\n Use an accordian layout to make it easy to browse through different questions. \\n Expand answers to your most frequent questions. \\n Include text, links, images, and videos in your answers. \\n Add a search bar to make your FAQ accordion searchable....   \n",
       "3  Promote Me app is a bundle of apps that includes many Shopify apps, aimed at boosting sales by increasing conversion rate and decreasing page load time. We will including more and more apps as app updates. \\n Finetune Store Apps \\n \\n Back to Top button \\n Open External Links in New Tabs \\n Terms and Conditions on Cart \\n Skip Cart on Product page \\n Remove Shopify Branding \\n Geolocation Redirect \\n \\n Protect Store Apps \\n \\n Advanced Cookie Bar \\n Copy Protection Plus \\n Hide Best Selling Filter \\n \\n Improve Experience Apps \\n \\n Search Autocomplete \\n Instant Page Loader \\n Currency C...   \n",
       "4  We are trusted by hundreds of Shopify and Shopify Plus customers from around the world. \\n Let your customers know that you have now launched your mobile apps. Guide them to the App Store or Play Store to easily download and start using your app. We have seen our customers who use Instalify get more installs saving them thousands of dollars in marketing. \\n 3 Key Benefits: \\n \\n Increase Mobile App Installs- Organically increase your mobile app installs by guiding your website customers to your app. \\n Easy Setup- Quick and simple set up that takes less than 5 minutes \\n Powerful Analytics...   \n",
       "\n",
       "                                                         tagline  \\\n",
       "0                   Translate your store into multiple languages   \n",
       "1                     A-Z Brand Index Page and Favourites Slider   \n",
       "2  FAQ page, FAQ accordion menu for product Info & refund policy   \n",
       "3  Spin Wheel,Currency Converter,Quick ATC Buttons & 18+ apps...   \n",
       "4                           Supercharge Your Mobile App Installs   \n",
       "\n",
       "                                         category  \n",
       "0                                    Store design  \n",
       "1                                    Store design  \n",
       "2                   Store design,Customer support  \n",
       "3  Store design,Sales and conversion optimization  \n",
       "4                                    Store design  "
      ]
     },
     "execution_count": 3,
     "metadata": {},
     "output_type": "execute_result"
    }
   ],
   "source": [
    "apps_data = pd.read_csv(dataPath/\"shopify_apps.csv\")\n",
    "print(apps_data.shape)\n",
    "apps_data.head()"
   ]
  },
  {
   "cell_type": "markdown",
   "metadata": {},
   "source": [
    "## Training a language Model"
   ]
  },
  {
   "cell_type": "code",
   "execution_count": 4,
   "metadata": {
    "ExecuteTime": {
     "end_time": "2021-07-11T20:59:18.763157Z",
     "start_time": "2021-07-11T20:59:12.916172Z"
    }
   },
   "outputs": [
    {
     "data": {
      "text/html": [],
      "text/plain": [
       "<IPython.core.display.HTML object>"
      ]
     },
     "metadata": {},
     "output_type": "display_data"
    },
    {
     "data": {
      "text/html": [
       "<table border=\"1\" class=\"dataframe\">\n",
       "  <thead>\n",
       "    <tr style=\"text-align: right;\">\n",
       "      <th></th>\n",
       "      <th>text</th>\n",
       "      <th>text_</th>\n",
       "    </tr>\n",
       "  </thead>\n",
       "  <tbody>\n",
       "    <tr>\n",
       "      <th>0</th>\n",
       "      <td>xxbos xxmaj automatically sync your xxmaj shopify orders to your quickbooks xxmaj online account and enjoy seamless financial reporting with just a couple of clicks . \\n▁ xxmaj automatic xxmaj daily xxmaj sync \\n▁ xxmaj quickly and easily import all your orders and refunds from xxmaj shopify into quickbooks xxmaj online . xxmaj you can choose to automatically sync order data and export historical data from your xxmaj shopify account . \\n▁</td>\n",
       "      <td>xxmaj automatically sync your xxmaj shopify orders to your quickbooks xxmaj online account and enjoy seamless financial reporting with just a couple of clicks . \\n▁ xxmaj automatic xxmaj daily xxmaj sync \\n▁ xxmaj quickly and easily import all your orders and refunds from xxmaj shopify into quickbooks xxmaj online . xxmaj you can choose to automatically sync order data and export historical data from your xxmaj shopify account . \\n▁ xxmaj</td>\n",
       "    </tr>\n",
       "    <tr>\n",
       "      <th>1</th>\n",
       "      <td>social proof application that shows xxmaj live visitor count , xxmaj recent order notifications , and xxmaj overall total sales as well . \\n▁ xxmaj but what is social proof ? \\n▁ ",
       " xxmaj if you ’ve ever tried to book a hotel online , you ’d have seen small popups suggesting ' how many people are booking a room ' , ' who has recently booked that hotel ' , and '</td>\n",
       "      <td>proof application that shows xxmaj live visitor count , xxmaj recent order notifications , and xxmaj overall total sales as well . \\n▁ xxmaj but what is social proof ? \\n▁ ",
       " xxmaj if you ’ve ever tried to book a hotel online , you ’d have seen small popups suggesting ' how many people are booking a room ' , ' who has recently booked that hotel ' , and ' how</td>\n",
       "    </tr>\n",
       "    <tr>\n",
       "      <th>2</th>\n",
       "      <td>easy and xxmaj affordable . xxmaj as your smart virtual assistant available 24 / 7 , xxmaj mark will be able to analyze your store and your advertising campaigns to help you make strategic marketing decisions . \\n▁ xxmaj mark can also analyze all your metrics from different data sources like xxmaj google xxmaj analytics and give you a benchmark on all your data . \\n▁ xxmaj here is what xxmaj mark</td>\n",
       "      <td>and xxmaj affordable . xxmaj as your smart virtual assistant available 24 / 7 , xxmaj mark will be able to analyze your store and your advertising campaigns to help you make strategic marketing decisions . \\n▁ xxmaj mark can also analyze all your metrics from different data sources like xxmaj google xxmaj analytics and give you a benchmark on all your data . \\n▁ xxmaj here is what xxmaj mark can</td>\n",
       "    </tr>\n",
       "    <tr>\n",
       "      <th>3</th>\n",
       "      <td>a xxmaj stories format and get to see more options with no or minimal effort , ending up spending more time on your website . \\n▁ xxmaj stories xxmaj analytics : \\n▁ xxmaj get to know how xxmaj stories perform for you and analytics on views , engagements , and clicks . \\n▁ xxmaj how does it work ? \\n▁ xxmaj step 1 : xxmaj upload an image : you can reuse</td>\n",
       "      <td>xxmaj stories format and get to see more options with no or minimal effort , ending up spending more time on your website . \\n▁ xxmaj stories xxmaj analytics : \\n▁ xxmaj get to know how xxmaj stories perform for you and analytics on views , engagements , and clicks . \\n▁ xxmaj how does it work ? \\n▁ xxmaj step 1 : xxmaj upload an image : you can reuse the</td>\n",
       "    </tr>\n",
       "    <tr>\n",
       "      <th>4</th>\n",
       "      <td>free forever plan : xxmaj use the rewards program without any limits \\n▁ xxmaj easy to use : xxmaj simply install and the program will be setup instantly \\n▁ xxmaj fully customizable : xxmaj customize the colours , choose your font , have full xxup html control over the emails to fit 100 % to your branding \\n▁\\n▁ 3 xxmaj rewards program you can start utilizing \\n▁\\n▁ xxmaj points xxmaj rewards xxmaj</td>\n",
       "      <td>forever plan : xxmaj use the rewards program without any limits \\n▁ xxmaj easy to use : xxmaj simply install and the program will be setup instantly \\n▁ xxmaj fully customizable : xxmaj customize the colours , choose your font , have full xxup html control over the emails to fit 100 % to your branding \\n▁\\n▁ 3 xxmaj rewards program you can start utilizing \\n▁\\n▁ xxmaj points xxmaj rewards xxmaj program</td>\n",
       "    </tr>\n",
       "  </tbody>\n",
       "</table>"
      ],
      "text/plain": [
       "<IPython.core.display.HTML object>"
      ]
     },
     "metadata": {},
     "output_type": "display_data"
    }
   ],
   "source": [
    "## Creating a Text Data loader for language model\n",
    "dls_lm = TextDataLoaders.from_df(apps_data, text_col=3, is_lm=True)\n",
    "dls_lm.show_batch(max_n=5)"
   ]
  },
  {
   "cell_type": "code",
   "execution_count": 5,
   "metadata": {
    "ExecuteTime": {
     "end_time": "2021-07-11T20:59:19.303891Z",
     "start_time": "2021-07-11T20:59:18.765063Z"
    }
   },
   "outputs": [],
   "source": [
    "## Initiating the language model\n",
    "learn = language_model_learner(\n",
    "    dls_lm, \n",
    "    AWD_LSTM, \n",
    "    metrics=[accuracy, Perplexity()], \n",
    "    path=dataPath, \n",
    "    wd=0.1).to_fp16()"
   ]
  },
  {
   "cell_type": "code",
   "execution_count": 6,
   "metadata": {
    "ExecuteTime": {
     "end_time": "2021-07-11T21:04:50.962696Z",
     "start_time": "2021-07-11T20:59:20.916580Z"
    }
   },
   "outputs": [
    {
     "data": {
      "text/html": [
       "<table border=\"1\" class=\"dataframe\">\n",
       "  <thead>\n",
       "    <tr style=\"text-align: left;\">\n",
       "      <th>epoch</th>\n",
       "      <th>train_loss</th>\n",
       "      <th>valid_loss</th>\n",
       "      <th>accuracy</th>\n",
       "      <th>perplexity</th>\n",
       "      <th>time</th>\n",
       "    </tr>\n",
       "  </thead>\n",
       "  <tbody>\n",
       "    <tr>\n",
       "      <td>0</td>\n",
       "      <td>4.401289</td>\n",
       "      <td>3.894527</td>\n",
       "      <td>0.301209</td>\n",
       "      <td>49.132816</td>\n",
       "      <td>01:06</td>\n",
       "    </tr>\n",
       "    <tr>\n",
       "      <td>1</td>\n",
       "      <td>4.082547</td>\n",
       "      <td>3.718361</td>\n",
       "      <td>0.316634</td>\n",
       "      <td>41.196812</td>\n",
       "      <td>01:05</td>\n",
       "    </tr>\n",
       "    <tr>\n",
       "      <td>2</td>\n",
       "      <td>3.962107</td>\n",
       "      <td>3.647734</td>\n",
       "      <td>0.324348</td>\n",
       "      <td>38.387589</td>\n",
       "      <td>01:05</td>\n",
       "    </tr>\n",
       "    <tr>\n",
       "      <td>3</td>\n",
       "      <td>3.848866</td>\n",
       "      <td>3.604662</td>\n",
       "      <td>0.329019</td>\n",
       "      <td>36.769241</td>\n",
       "      <td>01:05</td>\n",
       "    </tr>\n",
       "    <tr>\n",
       "      <td>4</td>\n",
       "      <td>3.773146</td>\n",
       "      <td>3.595030</td>\n",
       "      <td>0.330209</td>\n",
       "      <td>36.416805</td>\n",
       "      <td>01:05</td>\n",
       "    </tr>\n",
       "  </tbody>\n",
       "</table>"
      ],
      "text/plain": [
       "<IPython.core.display.HTML object>"
      ]
     },
     "metadata": {},
     "output_type": "display_data"
    }
   ],
   "source": [
    "## Training last layer\n",
    "learn.fit_one_cycle(5, 1e-2)"
   ]
  },
  {
   "cell_type": "code",
   "execution_count": 7,
   "metadata": {
    "ExecuteTime": {
     "end_time": "2021-07-11T21:11:27.657315Z",
     "start_time": "2021-07-11T21:04:50.964246Z"
    }
   },
   "outputs": [
    {
     "data": {
      "text/html": [
       "<table border=\"1\" class=\"dataframe\">\n",
       "  <thead>\n",
       "    <tr style=\"text-align: left;\">\n",
       "      <th>epoch</th>\n",
       "      <th>train_loss</th>\n",
       "      <th>valid_loss</th>\n",
       "      <th>accuracy</th>\n",
       "      <th>perplexity</th>\n",
       "      <th>time</th>\n",
       "    </tr>\n",
       "  </thead>\n",
       "  <tbody>\n",
       "    <tr>\n",
       "      <td>0</td>\n",
       "      <td>3.647418</td>\n",
       "      <td>3.511912</td>\n",
       "      <td>0.342721</td>\n",
       "      <td>33.512295</td>\n",
       "      <td>01:19</td>\n",
       "    </tr>\n",
       "    <tr>\n",
       "      <td>1</td>\n",
       "      <td>3.519794</td>\n",
       "      <td>3.408947</td>\n",
       "      <td>0.357038</td>\n",
       "      <td>30.233391</td>\n",
       "      <td>01:19</td>\n",
       "    </tr>\n",
       "    <tr>\n",
       "      <td>2</td>\n",
       "      <td>3.395638</td>\n",
       "      <td>3.349552</td>\n",
       "      <td>0.365107</td>\n",
       "      <td>28.489979</td>\n",
       "      <td>01:19</td>\n",
       "    </tr>\n",
       "    <tr>\n",
       "      <td>3</td>\n",
       "      <td>3.303498</td>\n",
       "      <td>3.317507</td>\n",
       "      <td>0.370716</td>\n",
       "      <td>27.591473</td>\n",
       "      <td>01:19</td>\n",
       "    </tr>\n",
       "    <tr>\n",
       "      <td>4</td>\n",
       "      <td>3.270912</td>\n",
       "      <td>3.310615</td>\n",
       "      <td>0.371249</td>\n",
       "      <td>27.401974</td>\n",
       "      <td>01:19</td>\n",
       "    </tr>\n",
       "  </tbody>\n",
       "</table>"
      ],
      "text/plain": [
       "<IPython.core.display.HTML object>"
      ]
     },
     "metadata": {},
     "output_type": "display_data"
    }
   ],
   "source": [
    "## Training all layers\n",
    "learn.unfreeze()\n",
    "learn.fit_one_cycle(5, 1e-3)"
   ]
  },
  {
   "cell_type": "code",
   "execution_count": 8,
   "metadata": {
    "ExecuteTime": {
     "end_time": "2021-07-11T21:11:27.858037Z",
     "start_time": "2021-07-11T21:11:27.659379Z"
    }
   },
   "outputs": [],
   "source": [
    "## Saving encoder \n",
    "learn.save_encoder('finetuned')"
   ]
  },
  {
   "cell_type": "markdown",
   "metadata": {},
   "source": [
    "## Training a classifier"
   ]
  },
  {
   "cell_type": "code",
   "execution_count": 9,
   "metadata": {
    "ExecuteTime": {
     "end_time": "2021-07-11T21:11:50.428529Z",
     "start_time": "2021-07-11T21:11:50.417847Z"
    }
   },
   "outputs": [
    {
     "data": {
      "text/html": [
       "<div>\n",
       "<style scoped>\n",
       "    .dataframe tbody tr th:only-of-type {\n",
       "        vertical-align: middle;\n",
       "    }\n",
       "\n",
       "    .dataframe tbody tr th {\n",
       "        vertical-align: top;\n",
       "    }\n",
       "\n",
       "    .dataframe thead th {\n",
       "        text-align: right;\n",
       "    }\n",
       "</style>\n",
       "<table border=\"1\" class=\"dataframe\">\n",
       "  <thead>\n",
       "    <tr style=\"text-align: right;\">\n",
       "      <th></th>\n",
       "      <th>app_id</th>\n",
       "      <th>url</th>\n",
       "      <th>title</th>\n",
       "      <th>description</th>\n",
       "      <th>tagline</th>\n",
       "      <th>category</th>\n",
       "    </tr>\n",
       "  </thead>\n",
       "  <tbody>\n",
       "    <tr>\n",
       "      <th>0</th>\n",
       "      <td>9e4748a9-7eda-4814-83b6-0537d44152b1</td>\n",
       "      <td>https://apps.shopify.com/translate</td>\n",
       "      <td>Panda Language Translate</td>\n",
       "      <td>Panda Language Translation improve your business Internationally \\n\\n Every store owners would like to: \\n\\n Increase sales by acquiring new customers\\nImprove conversion by speaking your visitors language \\n\\n Many of customers might leave your store because they are not: \\n\\n \\n Redirected to your shop matching their preferred language \\n Allow an option to choose their own preferred language with Flag option \\n Customers from all around the world expect your store to be available in their preferred language \\n \\n\\n Translate the gap by allowing easily provide multilingual translate tool...</td>\n",
       "      <td>Translate your store into multiple languages</td>\n",
       "      <td>Store design</td>\n",
       "    </tr>\n",
       "    <tr>\n",
       "      <th>1</th>\n",
       "      <td>d1476138-a608-4bb9-8d39-b30f3ca7617d</td>\n",
       "      <td>https://apps.shopify.com/instant-brand-page</td>\n",
       "      <td>Instant Brand Page</td>\n",
       "      <td>Having a brand page gives your shoppers a quick way to see the variety in your inventory and identify with their favourite brands. \\n No coding required and image support without needing a collection per brand!! Key Features \\n \\n Three different layouts to choose from. \\n Style your brand page how you want it. \\n Automatic matching to collections - saves you time! \\n Use collection images or upload your own custom brand image. \\n Use sale icons to show your customers their favourite brands with discounted products. \\n Sale icons will display dynamically if set - no management required! \\n...</td>\n",
       "      <td>A-Z Brand Index Page and Favourites Slider</td>\n",
       "      <td>Store design</td>\n",
       "    </tr>\n",
       "    <tr>\n",
       "      <th>2</th>\n",
       "      <td>d6e49a3c-2f9f-4bfa-8c26-5d024faf2241</td>\n",
       "      <td>https://apps.shopify.com/powr-faq</td>\n",
       "      <td>FAQ Accordion | Help Center</td>\n",
       "      <td>Create, organize and display Frequently Asked Questions on any page. \\n Make finding an answer to common questions easy! With POWr FAQ Accordion you can: \\n\\n \\n Reduce support requests by adding answers to frequent questions about product info to your website. \\n Include shipping details, your refund policy and more on your Help Centre page. \\n Use an accordian layout to make it easy to browse through different questions. \\n Expand answers to your most frequent questions. \\n Include text, links, images, and videos in your answers. \\n Add a search bar to make your FAQ accordion searchable....</td>\n",
       "      <td>FAQ page, FAQ accordion menu for product Info &amp; refund policy</td>\n",
       "      <td>Store design,Customer support</td>\n",
       "    </tr>\n",
       "    <tr>\n",
       "      <th>3</th>\n",
       "      <td>0ef0087f-3ae5-4dbc-84e0-193b576d82ed</td>\n",
       "      <td>https://apps.shopify.com/mps-promote-me</td>\n",
       "      <td>Promote Me | Many apps in one</td>\n",
       "      <td>Promote Me app is a bundle of apps that includes many Shopify apps, aimed at boosting sales by increasing conversion rate and decreasing page load time. We will including more and more apps as app updates. \\n Finetune Store Apps \\n \\n Back to Top button \\n Open External Links in New Tabs \\n Terms and Conditions on Cart \\n Skip Cart on Product page \\n Remove Shopify Branding \\n Geolocation Redirect \\n \\n Protect Store Apps \\n \\n Advanced Cookie Bar \\n Copy Protection Plus \\n Hide Best Selling Filter \\n \\n Improve Experience Apps \\n \\n Search Autocomplete \\n Instant Page Loader \\n Currency C...</td>\n",
       "      <td>Spin Wheel,Currency Converter,Quick ATC Buttons &amp; 18+ apps...</td>\n",
       "      <td>Store design,Sales and conversion optimization</td>\n",
       "    </tr>\n",
       "    <tr>\n",
       "      <th>4</th>\n",
       "      <td>7aac2a1f-ff03-4f38-aeb7-7619403a6f05</td>\n",
       "      <td>https://apps.shopify.com/installify-boost-mobile-app-installs</td>\n",
       "      <td>Instalify</td>\n",
       "      <td>We are trusted by hundreds of Shopify and Shopify Plus customers from around the world. \\n Let your customers know that you have now launched your mobile apps. Guide them to the App Store or Play Store to easily download and start using your app. We have seen our customers who use Instalify get more installs saving them thousands of dollars in marketing. \\n 3 Key Benefits: \\n \\n Increase Mobile App Installs- Organically increase your mobile app installs by guiding your website customers to your app. \\n Easy Setup- Quick and simple set up that takes less than 5 minutes \\n Powerful Analytics...</td>\n",
       "      <td>Supercharge Your Mobile App Installs</td>\n",
       "      <td>Store design</td>\n",
       "    </tr>\n",
       "  </tbody>\n",
       "</table>\n",
       "</div>"
      ],
      "text/plain": [
       "                                 app_id  \\\n",
       "0  9e4748a9-7eda-4814-83b6-0537d44152b1   \n",
       "1  d1476138-a608-4bb9-8d39-b30f3ca7617d   \n",
       "2  d6e49a3c-2f9f-4bfa-8c26-5d024faf2241   \n",
       "3  0ef0087f-3ae5-4dbc-84e0-193b576d82ed   \n",
       "4  7aac2a1f-ff03-4f38-aeb7-7619403a6f05   \n",
       "\n",
       "                                                             url  \\\n",
       "0                             https://apps.shopify.com/translate   \n",
       "1                    https://apps.shopify.com/instant-brand-page   \n",
       "2                              https://apps.shopify.com/powr-faq   \n",
       "3                        https://apps.shopify.com/mps-promote-me   \n",
       "4  https://apps.shopify.com/installify-boost-mobile-app-installs   \n",
       "\n",
       "                           title  \\\n",
       "0       Panda Language Translate   \n",
       "1             Instant Brand Page   \n",
       "2    FAQ Accordion | Help Center   \n",
       "3  Promote Me | Many apps in one   \n",
       "4                      Instalify   \n",
       "\n",
       "                                                                                                                                                                                                                                                                                                                                                                                                                                                                                                                                                                                                               description  \\\n",
       "0  Panda Language Translation improve your business Internationally \\n\\n Every store owners would like to: \\n\\n Increase sales by acquiring new customers\\nImprove conversion by speaking your visitors language \\n\\n Many of customers might leave your store because they are not: \\n\\n \\n Redirected to your shop matching their preferred language \\n Allow an option to choose their own preferred language with Flag option \\n Customers from all around the world expect your store to be available in their preferred language \\n \\n\\n Translate the gap by allowing easily provide multilingual translate tool...   \n",
       "1  Having a brand page gives your shoppers a quick way to see the variety in your inventory and identify with their favourite brands. \\n No coding required and image support without needing a collection per brand!! Key Features \\n \\n Three different layouts to choose from. \\n Style your brand page how you want it. \\n Automatic matching to collections - saves you time! \\n Use collection images or upload your own custom brand image. \\n Use sale icons to show your customers their favourite brands with discounted products. \\n Sale icons will display dynamically if set - no management required! \\n...   \n",
       "2  Create, organize and display Frequently Asked Questions on any page. \\n Make finding an answer to common questions easy! With POWr FAQ Accordion you can: \\n\\n \\n Reduce support requests by adding answers to frequent questions about product info to your website. \\n Include shipping details, your refund policy and more on your Help Centre page. \\n Use an accordian layout to make it easy to browse through different questions. \\n Expand answers to your most frequent questions. \\n Include text, links, images, and videos in your answers. \\n Add a search bar to make your FAQ accordion searchable....   \n",
       "3  Promote Me app is a bundle of apps that includes many Shopify apps, aimed at boosting sales by increasing conversion rate and decreasing page load time. We will including more and more apps as app updates. \\n Finetune Store Apps \\n \\n Back to Top button \\n Open External Links in New Tabs \\n Terms and Conditions on Cart \\n Skip Cart on Product page \\n Remove Shopify Branding \\n Geolocation Redirect \\n \\n Protect Store Apps \\n \\n Advanced Cookie Bar \\n Copy Protection Plus \\n Hide Best Selling Filter \\n \\n Improve Experience Apps \\n \\n Search Autocomplete \\n Instant Page Loader \\n Currency C...   \n",
       "4  We are trusted by hundreds of Shopify and Shopify Plus customers from around the world. \\n Let your customers know that you have now launched your mobile apps. Guide them to the App Store or Play Store to easily download and start using your app. We have seen our customers who use Instalify get more installs saving them thousands of dollars in marketing. \\n 3 Key Benefits: \\n \\n Increase Mobile App Installs- Organically increase your mobile app installs by guiding your website customers to your app. \\n Easy Setup- Quick and simple set up that takes less than 5 minutes \\n Powerful Analytics...   \n",
       "\n",
       "                                                         tagline  \\\n",
       "0                   Translate your store into multiple languages   \n",
       "1                     A-Z Brand Index Page and Favourites Slider   \n",
       "2  FAQ page, FAQ accordion menu for product Info & refund policy   \n",
       "3  Spin Wheel,Currency Converter,Quick ATC Buttons & 18+ apps...   \n",
       "4                           Supercharge Your Mobile App Installs   \n",
       "\n",
       "                                         category  \n",
       "0                                    Store design  \n",
       "1                                    Store design  \n",
       "2                   Store design,Customer support  \n",
       "3  Store design,Sales and conversion optimization  \n",
       "4                                    Store design  "
      ]
     },
     "execution_count": 9,
     "metadata": {},
     "output_type": "execute_result"
    }
   ],
   "source": [
    "apps_data.head()"
   ]
  },
  {
   "cell_type": "code",
   "execution_count": 18,
   "metadata": {
    "ExecuteTime": {
     "end_time": "2021-07-11T21:22:19.317314Z",
     "start_time": "2021-07-11T21:22:19.313052Z"
    }
   },
   "outputs": [
    {
     "data": {
      "text/plain": [
       "Index(['app_id', 'url', 'title', 'description', 'tagline', 'category'], dtype='object')"
      ]
     },
     "execution_count": 18,
     "metadata": {},
     "output_type": "execute_result"
    }
   ],
   "source": [
    "apps_data.columns"
   ]
  },
  {
   "cell_type": "code",
   "execution_count": 22,
   "metadata": {
    "ExecuteTime": {
     "end_time": "2021-07-11T21:24:01.799309Z",
     "start_time": "2021-07-11T21:23:55.450409Z"
    }
   },
   "outputs": [
    {
     "data": {
      "text/html": [],
      "text/plain": [
       "<IPython.core.display.HTML object>"
      ]
     },
     "metadata": {},
     "output_type": "display_data"
    }
   ],
   "source": [
    "dls_blk  = DataBlock(\n",
    "    blocks = (TextBlock.from_df(text_cols=\"description\", seq_len=128),\n",
    "            MultiCategoryBlock),\n",
    "    get_x = ColReader(cols=\"text\"),\n",
    "    get_y = ColReader(cols=\"category\", label_delim=\",\"),\n",
    "    splitter = TrainTestSplitter(test_size=0.2, random_state=21)\n",
    ")\n",
    "\n",
    "dls_clf = dls_blk.dataloaders(apps_data, bs =16, seed =20)"
   ]
  },
  {
   "cell_type": "code",
   "execution_count": 23,
   "metadata": {
    "ExecuteTime": {
     "end_time": "2021-07-11T21:24:11.448522Z",
     "start_time": "2021-07-11T21:24:11.400914Z"
    }
   },
   "outputs": [
    {
     "data": {
      "text/html": [
       "<table border=\"1\" class=\"dataframe\">\n",
       "  <thead>\n",
       "    <tr style=\"text-align: right;\">\n",
       "      <th></th>\n",
       "      <th>text</th>\n",
       "      <th>None</th>\n",
       "    </tr>\n",
       "  </thead>\n",
       "  <tbody>\n",
       "    <tr>\n",
       "      <th>0</th>\n",
       "      <td>xxbos shippypro is the one - stop xxmaj shipping xxmaj solution that allows you to create xxmaj shipping xxmaj labels , xxmaj track xxmaj packages and xxmaj manage xxmaj returns . xxmaj give it a try , the first 30 orders are xxup free . \\n▁ xxmaj integrates with 110 + carriers including : \\n▁ fedex , xxup ups , xxup dhl xxmaj express , xxup xxunk , xxmaj poste xxmaj xxunk , xxup gls xxmaj italy , xxmaj xxunk , xxup tnt xxup it , xxup xxunk , xxmaj asendia , xxunk , xxup b2c xxmaj europe , xxup xxunk , xxunk , xxmaj xxunk , xxup dhl xxmaj parcel , xxup xxunk , xxup dpd xxup hr , xxup gls xxup ee , xxmaj correos , xxmaj xxunk , xxup gls xxup es , xxmaj xxunk , xxmaj xxunk , xxmaj correos xxmaj express , xxup mrw ,</td>\n",
       "      <td>Orders and shipping</td>\n",
       "    </tr>\n",
       "    <tr>\n",
       "      <th>1</th>\n",
       "      <td>xxbos xxup faq xxmaj page &amp; xxmaj accordion app by xxup ndnapps enables customers to look for common inquiries , questions with answers on the xxmaj knowledge xxmaj base and xxup faq lists . xxmaj admins can create their own informative seo - friendly xxup faq page with all necessary features . \\n▁ xxmaj the features of xxup faq xxmaj page &amp; xxmaj accordion app by xxup ndnapps \\n▁\\n▁ xxmaj work effectively on all devices ( desktop , xxmaj tablet , xxmaj mobile ) : xxmaj you can create a nice responsive xxup faq page ( help xxmaj center ) easily without technical knowledge . xxmaj this app supports xxunk / expanding features to viewing questions . \\n▁ xxmaj making rich results in xxmaj google search ( good for xxup seo ) . \\n▁ xxmaj use an embed code to show xxup faq on any front - end pages .</td>\n",
       "      <td>Customer support;Store design</td>\n",
       "    </tr>\n",
       "    <tr>\n",
       "      <th>2</th>\n",
       "      <td>xxbos xxmaj click \" add xxmaj app \" for a free trial of the xxup seo tools that over 30 , xxrep 3 0 stores and 100 ’s of xxmaj shopify xxmaj plus stores use to optimize xxup seo and drive traffic . \\n\\n▁ xxmaj cancel at any time and keep your xxunk start optimizing now . \\n▁ xxmaj the xxmaj complete xxup seo xxmaj app \\n▁ xxmaj check , fix and optimize with the xxup seo all in one power tool : xxmaj plug in xxup seo . xxmaj super easy to set up and use , it will help you with everything you need to improve your xxmaj google ranking , drive organic traffic to your shop and manage xxup seo optimization . \\n\\n▁\\n▁ xxmaj structured xxmaj data ( json - ld xxmaj schema xxmaj markup ) aka . xxmaj rich xxmaj snippets \\n▁ xxmaj bulk xxmaj edit</td>\n",
       "      <td>Marketing</td>\n",
       "    </tr>\n",
       "    <tr>\n",
       "      <th>3</th>\n",
       "      <td>xxbos xxmaj flexify syncs xxmaj your xxmaj products with xxmaj facebook xxmaj product xxmaj catalog &amp; allows you to create xxmaj dynamic xxmaj product xxmaj ads . xxmaj put your product ads in front of millions of people on xxmaj facebook , xxmaj instagram &amp; xxmaj google without manual work . xxmaj these highly targeted ads follow prospects across all their devices &amp; are always up - to - date thanks to xxmaj flexify 's social product feed . xxmaj true set &amp; forget advertising ! \\n▁ xxmaj join the thousands of merchants who have chosen xxmaj flexify . xxmaj get started xxup today risk - free with our xxup free - forever plan ! xxmaj setup is easy . xxmaj we offer xxup real xxup support &amp; keep this app xxup up - to - date . \\n▁ xxmaj how we help you succeed \\n▁ xxmaj social xxmaj commerce</td>\n",
       "      <td>Marketing</td>\n",
       "    </tr>\n",
       "    <tr>\n",
       "      <th>4</th>\n",
       "      <td>xxbos xxup new - xxmaj automatic xxmaj unique xxmaj coupons - xxmaj provide each subscriber with a completely unique coupon code that can only be used once and ca n't be reused . \\n\\n▁ xxup new - a / b xxmaj test - xxmaj create two games or more , run them simultaneously , and analyze each one ’s conversion rates . xxmaj based on these statistics , you will easily find the winning combination of texts , colors , and images . \\n▁ woohoo xxmaj popup xxmaj games : xxup spin xxup the xxup wheel xxup pick a xxup gift xxup card xxup dance xxup xxunk xxup of xxup coupons \\n▁ xxmaj increase your subscriber 's list by displaying exit - intent coupon popups . \\n▁ xxup exit xxup intent xxup trigger xxup included ! xxmaj key features \\n▁\\n▁ xxmaj smart xxmaj triggers \\n▁ xxmaj custom xxmaj images \\n▁</td>\n",
       "      <td>Marketing;Sales and conversion optimization;Store design</td>\n",
       "    </tr>\n",
       "  </tbody>\n",
       "</table>"
      ],
      "text/plain": [
       "<IPython.core.display.HTML object>"
      ]
     },
     "metadata": {},
     "output_type": "display_data"
    }
   ],
   "source": [
    "## Checking if everything is working fine\n",
    "dls_clf.show_batch(max_n=5)"
   ]
  },
  {
   "cell_type": "code",
   "execution_count": 24,
   "metadata": {
    "ExecuteTime": {
     "end_time": "2021-07-11T21:24:25.158593Z",
     "start_time": "2021-07-11T21:24:24.687592Z"
    }
   },
   "outputs": [],
   "source": [
    "## Defining our text classifier\n",
    "learn = text_classifier_learner(dls_clf , AWD_LSTM, drop_mult=1, metrics=accuracy_multi)\n",
    "learn.path = dataPath"
   ]
  },
  {
   "cell_type": "code",
   "execution_count": 25,
   "metadata": {
    "ExecuteTime": {
     "end_time": "2021-07-11T21:24:27.720238Z",
     "start_time": "2021-07-11T21:24:27.572336Z"
    }
   },
   "outputs": [],
   "source": [
    "## Loading Language model encoder weights trained in previous section\n",
    "learn = learn.load_encoder(file='finetuned')"
   ]
  },
  {
   "cell_type": "code",
   "execution_count": 26,
   "metadata": {
    "ExecuteTime": {
     "end_time": "2021-07-11T21:25:40.185976Z",
     "start_time": "2021-07-11T21:24:29.365142Z"
    }
   },
   "outputs": [
    {
     "data": {
      "text/html": [
       "<table border=\"1\" class=\"dataframe\">\n",
       "  <thead>\n",
       "    <tr style=\"text-align: left;\">\n",
       "      <th>epoch</th>\n",
       "      <th>train_loss</th>\n",
       "      <th>valid_loss</th>\n",
       "      <th>accuracy_multi</th>\n",
       "      <th>time</th>\n",
       "    </tr>\n",
       "  </thead>\n",
       "  <tbody>\n",
       "    <tr>\n",
       "      <td>0</td>\n",
       "      <td>0.387388</td>\n",
       "      <td>0.194760</td>\n",
       "      <td>0.918158</td>\n",
       "      <td>01:10</td>\n",
       "    </tr>\n",
       "  </tbody>\n",
       "</table>"
      ],
      "text/plain": [
       "<IPython.core.display.HTML object>"
      ]
     },
     "metadata": {},
     "output_type": "display_data"
    }
   ],
   "source": [
    "## Finetuning last layer\n",
    "learn.fit_one_cycle(1, 2e-2)"
   ]
  },
  {
   "cell_type": "code",
   "execution_count": 27,
   "metadata": {
    "ExecuteTime": {
     "end_time": "2021-07-11T21:29:06.030735Z",
     "start_time": "2021-07-11T21:27:48.053701Z"
    }
   },
   "outputs": [
    {
     "data": {
      "text/html": [
       "<table border=\"1\" class=\"dataframe\">\n",
       "  <thead>\n",
       "    <tr style=\"text-align: left;\">\n",
       "      <th>epoch</th>\n",
       "      <th>train_loss</th>\n",
       "      <th>valid_loss</th>\n",
       "      <th>accuracy_multi</th>\n",
       "      <th>time</th>\n",
       "    </tr>\n",
       "  </thead>\n",
       "  <tbody>\n",
       "    <tr>\n",
       "      <td>0</td>\n",
       "      <td>0.290416</td>\n",
       "      <td>0.189930</td>\n",
       "      <td>0.920790</td>\n",
       "      <td>01:17</td>\n",
       "    </tr>\n",
       "  </tbody>\n",
       "</table>"
      ],
      "text/plain": [
       "<IPython.core.display.HTML object>"
      ]
     },
     "metadata": {},
     "output_type": "display_data"
    }
   ],
   "source": [
    "## Finetuning last 2 layers and progressive learning rate\n",
    "learn.freeze_to(-2)\n",
    "learn.fit_one_cycle(1, slice(1e-2/(2.6**4),1e-2))"
   ]
  },
  {
   "cell_type": "code",
   "execution_count": 28,
   "metadata": {
    "ExecuteTime": {
     "end_time": "2021-07-11T21:30:46.472071Z",
     "start_time": "2021-07-11T21:29:06.032869Z"
    }
   },
   "outputs": [
    {
     "data": {
      "text/html": [
       "<table border=\"1\" class=\"dataframe\">\n",
       "  <thead>\n",
       "    <tr style=\"text-align: left;\">\n",
       "      <th>epoch</th>\n",
       "      <th>train_loss</th>\n",
       "      <th>valid_loss</th>\n",
       "      <th>accuracy_multi</th>\n",
       "      <th>time</th>\n",
       "    </tr>\n",
       "  </thead>\n",
       "  <tbody>\n",
       "    <tr>\n",
       "      <td>0</td>\n",
       "      <td>0.257554</td>\n",
       "      <td>0.186051</td>\n",
       "      <td>0.922895</td>\n",
       "      <td>01:40</td>\n",
       "    </tr>\n",
       "  </tbody>\n",
       "</table>"
      ],
      "text/plain": [
       "<IPython.core.display.HTML object>"
      ]
     },
     "metadata": {},
     "output_type": "display_data"
    }
   ],
   "source": [
    "## Finetuning last 3 layers and progressive learning rate\n",
    "learn.freeze_to(-3)\n",
    "learn.fit_one_cycle(1, slice(5e-3/(2.6**4),5e-3))"
   ]
  },
  {
   "cell_type": "code",
   "execution_count": 29,
   "metadata": {
    "ExecuteTime": {
     "end_time": "2021-07-11T21:40:49.201712Z",
     "start_time": "2021-07-11T21:30:46.474166Z"
    }
   },
   "outputs": [
    {
     "data": {
      "text/html": [
       "<table border=\"1\" class=\"dataframe\">\n",
       "  <thead>\n",
       "    <tr style=\"text-align: left;\">\n",
       "      <th>epoch</th>\n",
       "      <th>train_loss</th>\n",
       "      <th>valid_loss</th>\n",
       "      <th>accuracy_multi</th>\n",
       "      <th>time</th>\n",
       "    </tr>\n",
       "  </thead>\n",
       "  <tbody>\n",
       "    <tr>\n",
       "      <td>0</td>\n",
       "      <td>0.231401</td>\n",
       "      <td>0.183183</td>\n",
       "      <td>0.924211</td>\n",
       "      <td>02:00</td>\n",
       "    </tr>\n",
       "    <tr>\n",
       "      <td>1</td>\n",
       "      <td>0.221636</td>\n",
       "      <td>0.178899</td>\n",
       "      <td>0.926579</td>\n",
       "      <td>02:00</td>\n",
       "    </tr>\n",
       "    <tr>\n",
       "      <td>2</td>\n",
       "      <td>0.214045</td>\n",
       "      <td>0.177762</td>\n",
       "      <td>0.925789</td>\n",
       "      <td>02:00</td>\n",
       "    </tr>\n",
       "    <tr>\n",
       "      <td>3</td>\n",
       "      <td>0.200994</td>\n",
       "      <td>0.175965</td>\n",
       "      <td>0.927895</td>\n",
       "      <td>02:00</td>\n",
       "    </tr>\n",
       "    <tr>\n",
       "      <td>4</td>\n",
       "      <td>0.198360</td>\n",
       "      <td>0.176549</td>\n",
       "      <td>0.927544</td>\n",
       "      <td>02:00</td>\n",
       "    </tr>\n",
       "  </tbody>\n",
       "</table>"
      ],
      "text/plain": [
       "<IPython.core.display.HTML object>"
      ]
     },
     "metadata": {},
     "output_type": "display_data"
    }
   ],
   "source": [
    "## Training entire model\n",
    "learn.unfreeze()\n",
    "learn.fit_one_cycle(5, slice(1e-3/(2.6**4),1e-3))"
   ]
  },
  {
   "cell_type": "code",
   "execution_count": 30,
   "metadata": {
    "ExecuteTime": {
     "end_time": "2021-07-11T21:40:49.846082Z",
     "start_time": "2021-07-11T21:40:49.203620Z"
    }
   },
   "outputs": [
    {
     "data": {
      "text/plain": [
       "Path('../data/shopify/models/classifier.pth')"
      ]
     },
     "execution_count": 30,
     "metadata": {},
     "output_type": "execute_result"
    }
   ],
   "source": [
    "## Save model weights\n",
    "learn.save('classifier')"
   ]
  }
 ],
 "metadata": {
  "kernelspec": {
   "display_name": "Python 3",
   "language": "python",
   "name": "python3"
  },
  "language_info": {
   "codemirror_mode": {
    "name": "ipython",
    "version": 3
   },
   "file_extension": ".py",
   "mimetype": "text/x-python",
   "name": "python",
   "nbconvert_exporter": "python",
   "pygments_lexer": "ipython3",
   "version": "3.8.5"
  },
  "toc": {
   "base_numbering": 1,
   "nav_menu": {},
   "number_sections": true,
   "sideBar": true,
   "skip_h1_title": false,
   "title_cell": "Table of Contents",
   "title_sidebar": "Contents",
   "toc_cell": false,
   "toc_position": {},
   "toc_section_display": true,
   "toc_window_display": true
  }
 },
 "nbformat": 4,
 "nbformat_minor": 4
}
